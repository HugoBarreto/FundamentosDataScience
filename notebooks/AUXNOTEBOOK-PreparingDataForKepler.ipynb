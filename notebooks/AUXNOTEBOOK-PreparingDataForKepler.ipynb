{
 "cells": [
  {
   "cell_type": "markdown",
   "metadata": {},
   "source": [
    "**disclaimer:** This notebook was used for manipulation and preprocessing of our data as an interactive script. Its execution might encounter Errors by the fact that files and folders might have changed path or have been renamed."
   ]
  },
  {
   "cell_type": "markdown",
   "metadata": {},
   "source": [
    "# merging csvs\n",
    "This notebook was built to merge waze data from flood and general alerts, so that we could use them as input to visualize maps of kepler.gl."
   ]
  },
  {
   "cell_type": "code",
   "execution_count": 2,
   "metadata": {},
   "outputs": [],
   "source": [
    "import os\n",
    "import pandas as pd\n",
    "import numpy as np\n",
    "import csv\n",
    "#import re\n",
    "#import pytz\n",
    "#from shapely.geometry import Point"
   ]
  },
  {
   "cell_type": "code",
   "execution_count": 3,
   "metadata": {},
   "outputs": [],
   "source": [
    "import sys\n",
    "from pathlib import Path\n",
    "\n",
    "current_path = Path().resolve()\n",
    "abs_path = str(current_path.parent)\n",
    "sys.path.append(abs_path)\n",
    "\n",
    "city = 'Rio de Janeiro'\n",
    "\n",
    "RAW_PATH = current_path.parent / 'data' / 'raw' / city\n",
    "OUTPUT_PATH = current_path.parent / 'data' / 'output' / city\n",
    "\n",
    "datapath = \"../data/\"\n",
    "outputs = \"../outputs/\""
   ]
  },
  {
   "cell_type": "markdown",
   "metadata": {},
   "source": [
    "# links\n",
    "* https://darksky.net/dev/docs\n",
    "* https://github.com/bitpixdigital/forecastiopy3"
   ]
  },
  {
   "cell_type": "markdown",
   "metadata": {},
   "source": [
    "# Exploring metadata"
   ]
  },
  {
   "cell_type": "code",
   "execution_count": 4,
   "metadata": {},
   "outputs": [],
   "source": [
    "df_rj1 = pd.read_csv(RAW_PATH/'Rio-Worst-Day-Flood.csv')\n",
    "df_rj2 = pd.read_csv(RAW_PATH/'Rio-Worst-Day-irreg.csv')"
   ]
  },
  {
   "cell_type": "code",
   "execution_count": 79,
   "metadata": {},
   "outputs": [
    {
     "data": {
      "text/html": [
       "<div>\n",
       "<style scoped>\n",
       "    .dataframe tbody tr th:only-of-type {\n",
       "        vertical-align: middle;\n",
       "    }\n",
       "\n",
       "    .dataframe tbody tr th {\n",
       "        vertical-align: top;\n",
       "    }\n",
       "\n",
       "    .dataframe thead th {\n",
       "        text-align: right;\n",
       "    }\n",
       "</style>\n",
       "<table border=\"1\" class=\"dataframe\">\n",
       "  <thead>\n",
       "    <tr style=\"text-align: right;\">\n",
       "      <th></th>\n",
       "      <th>pub_utc_date</th>\n",
       "      <th>points</th>\n",
       "    </tr>\n",
       "  </thead>\n",
       "  <tbody>\n",
       "    <tr>\n",
       "      <th>0</th>\n",
       "      <td>2019-04-09 08:20:00.000</td>\n",
       "      <td>POINT (-43.55413 -22.871565)</td>\n",
       "    </tr>\n",
       "    <tr>\n",
       "      <th>1</th>\n",
       "      <td>2019-04-09 08:20:00.000</td>\n",
       "      <td>POINT (-43.508555 -22.863237)</td>\n",
       "    </tr>\n",
       "    <tr>\n",
       "      <th>2</th>\n",
       "      <td>2019-04-09 08:20:00.000</td>\n",
       "      <td>POINT (-43.367349 -22.97356)</td>\n",
       "    </tr>\n",
       "    <tr>\n",
       "      <th>3</th>\n",
       "      <td>2019-04-09 08:20:00.000</td>\n",
       "      <td>POINT (-43.357138 -22.966433)</td>\n",
       "    </tr>\n",
       "    <tr>\n",
       "      <th>4</th>\n",
       "      <td>2019-04-09 08:20:00.000</td>\n",
       "      <td>POINT (-43.359448 -22.924806)</td>\n",
       "    </tr>\n",
       "  </tbody>\n",
       "</table>\n",
       "</div>"
      ],
      "text/plain": [
       "              pub_utc_date                         points\n",
       "0  2019-04-09 08:20:00.000   POINT (-43.55413 -22.871565)\n",
       "1  2019-04-09 08:20:00.000  POINT (-43.508555 -22.863237)\n",
       "2  2019-04-09 08:20:00.000   POINT (-43.367349 -22.97356)\n",
       "3  2019-04-09 08:20:00.000  POINT (-43.357138 -22.966433)\n",
       "4  2019-04-09 08:20:00.000  POINT (-43.359448 -22.924806)"
      ]
     },
     "execution_count": 79,
     "metadata": {},
     "output_type": "execute_result"
    }
   ],
   "source": [
    "df_rj1.head(5)"
   ]
  },
  {
   "cell_type": "code",
   "execution_count": 78,
   "metadata": {},
   "outputs": [
    {
     "data": {
      "text/html": [
       "<div>\n",
       "<style scoped>\n",
       "    .dataframe tbody tr th:only-of-type {\n",
       "        vertical-align: middle;\n",
       "    }\n",
       "\n",
       "    .dataframe tbody tr th {\n",
       "        vertical-align: top;\n",
       "    }\n",
       "\n",
       "    .dataframe thead th {\n",
       "        text-align: right;\n",
       "    }\n",
       "</style>\n",
       "<table border=\"1\" class=\"dataframe\">\n",
       "  <thead>\n",
       "    <tr style=\"text-align: right;\">\n",
       "      <th></th>\n",
       "      <th>pub_utc_date</th>\n",
       "      <th>lines</th>\n",
       "    </tr>\n",
       "  </thead>\n",
       "  <tbody>\n",
       "    <tr>\n",
       "      <th>0</th>\n",
       "      <td>2019-04-09 08:12:00.000</td>\n",
       "      <td>LINESTRING (-43.216866 -22.963617, -43.217381 ...</td>\n",
       "    </tr>\n",
       "    <tr>\n",
       "      <th>1</th>\n",
       "      <td>2019-04-09 08:11:00.000</td>\n",
       "      <td>LINESTRING (-43.216866 -22.963617, -43.217381 ...</td>\n",
       "    </tr>\n",
       "    <tr>\n",
       "      <th>2</th>\n",
       "      <td>2019-04-09 12:01:00.000</td>\n",
       "      <td>LINESTRING (-43.366809 -22.838573, -43.380171 ...</td>\n",
       "    </tr>\n",
       "    <tr>\n",
       "      <th>3</th>\n",
       "      <td>2019-04-09 12:01:00.000</td>\n",
       "      <td>LINESTRING (-43.185941 -22.943584, -43.185947 ...</td>\n",
       "    </tr>\n",
       "    <tr>\n",
       "      <th>4</th>\n",
       "      <td>2019-04-09 12:01:00.000</td>\n",
       "      <td>LINESTRING (-43.397092 -22.898731, -43.397183 ...</td>\n",
       "    </tr>\n",
       "  </tbody>\n",
       "</table>\n",
       "</div>"
      ],
      "text/plain": [
       "              pub_utc_date                                              lines\n",
       "0  2019-04-09 08:12:00.000  LINESTRING (-43.216866 -22.963617, -43.217381 ...\n",
       "1  2019-04-09 08:11:00.000  LINESTRING (-43.216866 -22.963617, -43.217381 ...\n",
       "2  2019-04-09 12:01:00.000  LINESTRING (-43.366809 -22.838573, -43.380171 ...\n",
       "3  2019-04-09 12:01:00.000  LINESTRING (-43.185941 -22.943584, -43.185947 ...\n",
       "4  2019-04-09 12:01:00.000  LINESTRING (-43.397092 -22.898731, -43.397183 ..."
      ]
     },
     "execution_count": 78,
     "metadata": {},
     "output_type": "execute_result"
    }
   ],
   "source": [
    "df_rj2.head(5)"
   ]
  },
  {
   "cell_type": "code",
   "execution_count": 52,
   "metadata": {},
   "outputs": [],
   "source": [
    "df_rj1 = df_rj1[['pub_utc_date', 'longitude', 'latitude']]\n",
    "df_rj1['points'] = df_rj1.apply(lambda row: Point(row['longitude'], row['latitude']), 1)\n",
    "df_rj1 = df_rj1[['pub_utc_date', 'points']]"
   ]
  },
  {
   "cell_type": "code",
   "execution_count": 53,
   "metadata": {},
   "outputs": [],
   "source": [
    "df_rj2 = df_rj2[['pub_utc_date', 'geometry']].rename(columns={'geometry':'lines'})"
   ]
  },
  {
   "cell_type": "code",
   "execution_count": 56,
   "metadata": {},
   "outputs": [],
   "source": [
    "df = pd.concat([df_rj1, df_rj2], ignore_index=True, sort=False)"
   ]
  },
  {
   "cell_type": "code",
   "execution_count": 60,
   "metadata": {},
   "outputs": [],
   "source": [
    "df['pub_utc_date'] = df.pub_utc_date.apply(pd.to_datetime).dt.tz_localize('UTC')"
   ]
  },
  {
   "cell_type": "code",
   "execution_count": 62,
   "metadata": {},
   "outputs": [
    {
     "data": {
      "text/html": [
       "<div>\n",
       "<style scoped>\n",
       "    .dataframe tbody tr th:only-of-type {\n",
       "        vertical-align: middle;\n",
       "    }\n",
       "\n",
       "    .dataframe tbody tr th {\n",
       "        vertical-align: top;\n",
       "    }\n",
       "\n",
       "    .dataframe thead th {\n",
       "        text-align: right;\n",
       "    }\n",
       "</style>\n",
       "<table border=\"1\" class=\"dataframe\">\n",
       "  <thead>\n",
       "    <tr style=\"text-align: right;\">\n",
       "      <th></th>\n",
       "      <th>pub_utc_date</th>\n",
       "      <th>points</th>\n",
       "      <th>lines</th>\n",
       "    </tr>\n",
       "  </thead>\n",
       "  <tbody>\n",
       "    <tr>\n",
       "      <th>0</th>\n",
       "      <td>2019-04-09 08:20:00+00:00</td>\n",
       "      <td>POINT (-43.55413 -22.871565)</td>\n",
       "      <td>NaN</td>\n",
       "    </tr>\n",
       "    <tr>\n",
       "      <th>1</th>\n",
       "      <td>2019-04-09 08:20:00+00:00</td>\n",
       "      <td>POINT (-43.508555 -22.863237)</td>\n",
       "      <td>NaN</td>\n",
       "    </tr>\n",
       "    <tr>\n",
       "      <th>2</th>\n",
       "      <td>2019-04-09 08:20:00+00:00</td>\n",
       "      <td>POINT (-43.367349 -22.97356)</td>\n",
       "      <td>NaN</td>\n",
       "    </tr>\n",
       "    <tr>\n",
       "      <th>3</th>\n",
       "      <td>2019-04-09 08:20:00+00:00</td>\n",
       "      <td>POINT (-43.357138 -22.966433)</td>\n",
       "      <td>NaN</td>\n",
       "    </tr>\n",
       "    <tr>\n",
       "      <th>4</th>\n",
       "      <td>2019-04-09 08:20:00+00:00</td>\n",
       "      <td>POINT (-43.359448 -22.924806)</td>\n",
       "      <td>NaN</td>\n",
       "    </tr>\n",
       "  </tbody>\n",
       "</table>\n",
       "</div>"
      ],
      "text/plain": [
       "               pub_utc_date                         points lines\n",
       "0 2019-04-09 08:20:00+00:00   POINT (-43.55413 -22.871565)   NaN\n",
       "1 2019-04-09 08:20:00+00:00  POINT (-43.508555 -22.863237)   NaN\n",
       "2 2019-04-09 08:20:00+00:00   POINT (-43.367349 -22.97356)   NaN\n",
       "3 2019-04-09 08:20:00+00:00  POINT (-43.357138 -22.966433)   NaN\n",
       "4 2019-04-09 08:20:00+00:00  POINT (-43.359448 -22.924806)   NaN"
      ]
     },
     "execution_count": 62,
     "metadata": {},
     "output_type": "execute_result"
    }
   ],
   "source": [
    "df.head()"
   ]
  },
  {
   "cell_type": "code",
   "execution_count": 72,
   "metadata": {},
   "outputs": [],
   "source": [
    "df['pub_utc_date'] = df.pub_utc_date.dt.tz_convert('America/Sao_Paulo').apply(lambda x: x.replace(tzinfo=None))"
   ]
  },
  {
   "cell_type": "code",
   "execution_count": 74,
   "metadata": {},
   "outputs": [],
   "source": [
    "df = df.rename(columns={'pub_utc_date':'pub_local_date'})"
   ]
  },
  {
   "cell_type": "code",
   "execution_count": 76,
   "metadata": {},
   "outputs": [],
   "source": [
    "file_name = os.path.join(datapath,'Rio-Worst-Day-all.csv')"
   ]
  },
  {
   "cell_type": "code",
   "execution_count": 77,
   "metadata": {},
   "outputs": [],
   "source": [
    "df.to_csv(file_name, index=False)"
   ]
  }
 ],
 "metadata": {
  "kernelspec": {
   "display_name": "Python 3",
   "language": "python",
   "name": "python3"
  },
  "language_info": {
   "codemirror_mode": {
    "name": "ipython",
    "version": 3
   },
   "file_extension": ".py",
   "mimetype": "text/x-python",
   "name": "python",
   "nbconvert_exporter": "python",
   "pygments_lexer": "ipython3",
   "version": "3.7.3"
  },
  "toc": {
   "base_numbering": 1,
   "nav_menu": {},
   "number_sections": true,
   "sideBar": true,
   "skip_h1_title": false,
   "title_cell": "Table of Contents",
   "title_sidebar": "Contents",
   "toc_cell": false,
   "toc_position": {},
   "toc_section_display": true,
   "toc_window_display": false
  }
 },
 "nbformat": 4,
 "nbformat_minor": 2
}
