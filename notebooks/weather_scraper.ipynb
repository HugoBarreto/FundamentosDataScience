{
 "cells": [
  {
   "cell_type": "code",
   "execution_count": 38,
   "metadata": {},
   "outputs": [],
   "source": [
    "import os\n",
    "import requests\n",
    "import json\n",
    "from pprint import pprint\n",
    "import time\n",
    "from time import ctime\n",
    "#import datetime\n",
    "import csv\n",
    "\n",
    "from functools import reduce\n",
    "\n",
    "from IPython.display import clear_output"
   ]
  },
  {
   "cell_type": "code",
   "execution_count": 2,
   "metadata": {},
   "outputs": [],
   "source": [
    "datapath = \"../data/\"\n",
    "outputs = \"../outputs/\""
   ]
  },
  {
   "cell_type": "code",
   "execution_count": 284,
   "metadata": {},
   "outputs": [],
   "source": [
    "#api_key = \"c0c23ee1793316f86663e645642d8754\" # marcelo\n",
    "api_key = \"e4532171a9f967f4ab9db0763a8bbd87\" # hugo"
   ]
  },
  {
   "cell_type": "code",
   "execution_count": 4,
   "metadata": {},
   "outputs": [],
   "source": [
    "montevideo_geo = [-34.9011, -56.1645]\n",
    "miraflores_geo = [-12.1111, -77.0316]"
   ]
  },
  {
   "cell_type": "code",
   "execution_count": 5,
   "metadata": {},
   "outputs": [],
   "source": [
    "rj_meier_geo = [-22.902686, -43.278779]\n",
    "rj_lagoa_geo = [-22.962273, -43.203564]\n",
    "rj_barra_geo = [-22.998090, -43.359757]"
   ]
  },
  {
   "cell_type": "markdown",
   "metadata": {},
   "source": [
    "# links\n",
    "* https://darksky.net/dev/docs\n",
    "* https://github.com/bitpixdigital/forecastiopy3"
   ]
  },
  {
   "cell_type": "markdown",
   "metadata": {},
   "source": [
    "# get data using requests\n",
    "month = july"
   ]
  },
  {
   "cell_type": "markdown",
   "metadata": {},
   "source": [
    "SI means International System"
   ]
  },
  {
   "cell_type": "code",
   "execution_count": 261,
   "metadata": {},
   "outputs": [
    {
     "data": {
      "text/plain": [
       "'1560567600'"
      ]
     },
     "execution_count": 261,
     "metadata": {},
     "output_type": "execute_result"
    }
   ],
   "source": [
    "str(int(time.mktime((2019, 6, 15, 0, 0, 0, 0, 0, 0))))"
   ]
  },
  {
   "cell_type": "code",
   "execution_count": 263,
   "metadata": {},
   "outputs": [],
   "source": [
    "latitude=miraflores_geo[0]\n",
    "longitude=miraflores_geo[1]\n",
    "asctime= \"1560567600\"\n",
    "units = \"si\"\n",
    "lang = \"en\""
   ]
  },
  {
   "cell_type": "code",
   "execution_count": 264,
   "metadata": {},
   "outputs": [
    {
     "name": "stdout",
     "output_type": "stream",
     "text": [
      "https://api.darksky.net/forecast/c0c23ee1793316f86663e645642d8754/-12.1111,-77.0316,1560567600?units=si&lang=en\n"
     ]
    }
   ],
   "source": [
    "url = \"https://api.darksky.net/forecast/{}/{},{},{}?units={}&lang={}\".format(api_key, latitude, longitude, asctime, units, lang)\n",
    "print(url)\n",
    "r = requests.get(url)\n",
    "data = json.loads(r.text)\n",
    "#pprint(data)"
   ]
  },
  {
   "cell_type": "markdown",
   "metadata": {},
   "source": [
    "test, remove after checkup"
   ]
  },
  {
   "cell_type": "code",
   "execution_count": 273,
   "metadata": {},
   "outputs": [
    {
     "name": "stdout",
     "output_type": "stream",
     "text": [
      "{'currently': {'apparentTemperature': 23.53,\n",
      "               'cloudCover': 0.48,\n",
      "               'dewPoint': 18.55,\n",
      "               'humidity': 0.75,\n",
      "               'icon': 'partly-cloudy-night',\n",
      "               'ozone': 262.7,\n",
      "               'precipIntensity': 0,\n",
      "               'precipProbability': 0,\n",
      "               'pressure': 1017.31,\n",
      "               'summary': 'Partly Cloudy',\n",
      "               'temperature': 23.19,\n",
      "               'time': 1560567600,\n",
      "               'uvIndex': 0,\n",
      "               'visibility': 16.093,\n",
      "               'windBearing': 120,\n",
      "               'windGust': 7.26,\n",
      "               'windSpeed': 7.24},\n",
      " 'daily': {'data': [{'apparentTemperatureHigh': 24.5,\n",
      "                     'apparentTemperatureHighTime': 1560596400,\n",
      "                     'apparentTemperatureLow': 22.58,\n",
      "                     'apparentTemperatureLowTime': 1560654000,\n",
      "                     'apparentTemperatureMax': 24.5,\n",
      "                     'apparentTemperatureMaxTime': 1560596400,\n",
      "                     'apparentTemperatureMin': 23.52,\n",
      "                     'apparentTemperatureMinTime': 1560571200,\n",
      "                     'cloudCover': 0.55,\n",
      "                     'dewPoint': 17.93,\n",
      "                     'humidity': 0.7,\n",
      "                     'icon': 'partly-cloudy-day',\n",
      "                     'moonPhase': 0.45,\n",
      "                     'ozone': 260.9,\n",
      "                     'precipIntensity': 0.0132,\n",
      "                     'precipIntensityMax': 0.052,\n",
      "                     'precipIntensityMaxTime': 1560603600,\n",
      "                     'precipProbability': 0.15,\n",
      "                     'precipType': 'rain',\n",
      "                     'pressure': 1018.62,\n",
      "                     'summary': 'Mostly cloudy throughout the day.',\n",
      "                     'sunriseTime': 1560582468,\n",
      "                     'sunsetTime': 1560623569,\n",
      "                     'temperatureHigh': 24.28,\n",
      "                     'temperatureHighTime': 1560618000,\n",
      "                     'temperatureLow': 22.3,\n",
      "                     'temperatureLowTime': 1560664800,\n",
      "                     'temperatureMax': 24.28,\n",
      "                     'temperatureMaxTime': 1560618000,\n",
      "                     'temperatureMin': 23.11,\n",
      "                     'temperatureMinTime': 1560571200,\n",
      "                     'time': 1560556800,\n",
      "                     'uvIndex': 6,\n",
      "                     'uvIndexTime': 1560603600,\n",
      "                     'visibility': 16.093,\n",
      "                     'windBearing': 119,\n",
      "                     'windGust': 7.37,\n",
      "                     'windGustTime': 1560556800,\n",
      "                     'windSpeed': 6.96}]},\n",
      " 'flags': {'sources': ['cmc', 'gfs', 'icon', 'isd', 'madis'], 'units': 'si'},\n",
      " 'hourly': {'data': [{'apparentTemperature': 23.76,\n",
      "                      'cloudCover': 0.65,\n",
      "                      'dewPoint': 17.59,\n",
      "                      'humidity': 0.69,\n",
      "                      'icon': 'partly-cloudy-night',\n",
      "                      'ozone': 260.8,\n",
      "                      'precipIntensity': 0.0136,\n",
      "                      'precipProbability': 0.05,\n",
      "                      'precipType': 'rain',\n",
      "                      'pressure': 1019.43,\n",
      "                      'summary': 'Mostly Cloudy',\n",
      "                      'temperature': 23.54,\n",
      "                      'time': 1560556800,\n",
      "                      'uvIndex': 0,\n",
      "                      'visibility': 16.093,\n",
      "                      'windBearing': 114,\n",
      "                      'windGust': 7.37,\n",
      "                      'windSpeed': 7.37},\n",
      "                     {'apparentTemperature': 23.84,\n",
      "                      'cloudCover': 0.62,\n",
      "                      'dewPoint': 17.87,\n",
      "                      'humidity': 0.7,\n",
      "                      'icon': 'partly-cloudy-night',\n",
      "                      'ozone': 261.4,\n",
      "                      'precipIntensity': 0,\n",
      "                      'precipProbability': 0,\n",
      "                      'pressure': 1019.09,\n",
      "                      'summary': 'Mostly Cloudy',\n",
      "                      'temperature': 23.59,\n",
      "                      'time': 1560560400,\n",
      "                      'uvIndex': 0,\n",
      "                      'visibility': 16.093,\n",
      "                      'windBearing': 116,\n",
      "                      'windGust': 7.34,\n",
      "                      'windSpeed': 7.34},\n",
      "                     {'apparentTemperature': 23.74,\n",
      "                      'cloudCover': 0.49,\n",
      "                      'dewPoint': 18.21,\n",
      "                      'humidity': 0.72,\n",
      "                      'icon': 'partly-cloudy-night',\n",
      "                      'ozone': 262.3,\n",
      "                      'precipIntensity': 0,\n",
      "                      'precipProbability': 0,\n",
      "                      'pressure': 1018.23,\n",
      "                      'summary': 'Partly Cloudy',\n",
      "                      'temperature': 23.45,\n",
      "                      'time': 1560564000,\n",
      "                      'uvIndex': 0,\n",
      "                      'visibility': 16.093,\n",
      "                      'windBearing': 118,\n",
      "                      'windGust': 7.25,\n",
      "                      'windSpeed': 7.25},\n",
      "                     {'apparentTemperature': 23.53,\n",
      "                      'cloudCover': 0.48,\n",
      "                      'dewPoint': 18.55,\n",
      "                      'humidity': 0.75,\n",
      "                      'icon': 'partly-cloudy-night',\n",
      "                      'ozone': 262.7,\n",
      "                      'precipIntensity': 0,\n",
      "                      'precipProbability': 0,\n",
      "                      'pressure': 1017.31,\n",
      "                      'summary': 'Partly Cloudy',\n",
      "                      'temperature': 23.19,\n",
      "                      'time': 1560567600,\n",
      "                      'uvIndex': 0,\n",
      "                      'visibility': 16.093,\n",
      "                      'windBearing': 120,\n",
      "                      'windGust': 7.26,\n",
      "                      'windSpeed': 7.24},\n",
      "                     {'apparentTemperature': 23.52,\n",
      "                      'cloudCover': 0.42,\n",
      "                      'dewPoint': 19.1,\n",
      "                      'humidity': 0.78,\n",
      "                      'icon': 'partly-cloudy-night',\n",
      "                      'ozone': 262.5,\n",
      "                      'precipIntensity': 0,\n",
      "                      'precipProbability': 0,\n",
      "                      'pressure': 1017.08,\n",
      "                      'summary': 'Partly Cloudy',\n",
      "                      'temperature': 23.11,\n",
      "                      'time': 1560571200,\n",
      "                      'uvIndex': 0,\n",
      "                      'visibility': 16.093,\n",
      "                      'windBearing': 122,\n",
      "                      'windGust': 7.23,\n",
      "                      'windSpeed': 7.18},\n",
      "                     {'apparentTemperature': 23.54,\n",
      "                      'cloudCover': 0.37,\n",
      "                      'dewPoint': 19.27,\n",
      "                      'humidity': 0.79,\n",
      "                      'icon': 'partly-cloudy-night',\n",
      "                      'ozone': 261.8,\n",
      "                      'precipIntensity': 0,\n",
      "                      'precipProbability': 0,\n",
      "                      'pressure': 1017.37,\n",
      "                      'summary': 'Partly Cloudy',\n",
      "                      'temperature': 23.11,\n",
      "                      'time': 1560574800,\n",
      "                      'uvIndex': 0,\n",
      "                      'visibility': 16.093,\n",
      "                      'windBearing': 123,\n",
      "                      'windGust': 7.09,\n",
      "                      'windSpeed': 6.98},\n",
      "                     {'apparentTemperature': 23.6,\n",
      "                      'cloudCover': 0.41,\n",
      "                      'dewPoint': 19.25,\n",
      "                      'humidity': 0.79,\n",
      "                      'icon': 'partly-cloudy-night',\n",
      "                      'ozone': 261.4,\n",
      "                      'precipIntensity': 0,\n",
      "                      'precipProbability': 0,\n",
      "                      'pressure': 1017.9,\n",
      "                      'summary': 'Partly Cloudy',\n",
      "                      'temperature': 23.17,\n",
      "                      'time': 1560578400,\n",
      "                      'uvIndex': 0,\n",
      "                      'visibility': 16.093,\n",
      "                      'windBearing': 123,\n",
      "                      'windGust': 6.97,\n",
      "                      'windSpeed': 6.67},\n",
      "                     {'apparentTemperature': 23.71,\n",
      "                      'cloudCover': 0.42,\n",
      "                      'dewPoint': 19.17,\n",
      "                      'humidity': 0.78,\n",
      "                      'icon': 'partly-cloudy-night',\n",
      "                      'ozone': 261.5,\n",
      "                      'precipIntensity': 0,\n",
      "                      'precipProbability': 0,\n",
      "                      'pressure': 1018.19,\n",
      "                      'summary': 'Partly Cloudy',\n",
      "                      'temperature': 23.3,\n",
      "                      'time': 1560582000,\n",
      "                      'uvIndex': 0,\n",
      "                      'visibility': 16.093,\n",
      "                      'windBearing': 121,\n",
      "                      'windGust': 6.89,\n",
      "                      'windSpeed': 6.39},\n",
      "                     {'apparentTemperature': 23.86,\n",
      "                      'cloudCover': 0.75,\n",
      "                      'dewPoint': 19.04,\n",
      "                      'humidity': 0.76,\n",
      "                      'icon': 'partly-cloudy-day',\n",
      "                      'ozone': 261.7,\n",
      "                      'precipIntensity': 0.0289,\n",
      "                      'precipProbability': 0.03,\n",
      "                      'precipType': 'rain',\n",
      "                      'pressure': 1019.4,\n",
      "                      'summary': 'Mostly Cloudy',\n",
      "                      'temperature': 23.47,\n",
      "                      'time': 1560585600,\n",
      "                      'uvIndex': 0,\n",
      "                      'visibility': 16.093,\n",
      "                      'windBearing': 117,\n",
      "                      'windGust': 6.92,\n",
      "                      'windSpeed': 6.57},\n",
      "                     {'apparentTemperature': 24.27,\n",
      "                      'cloudCover': 0.96,\n",
      "                      'dewPoint': 18.85,\n",
      "                      'humidity': 0.73,\n",
      "                      'icon': 'cloudy',\n",
      "                      'ozone': 261.9,\n",
      "                      'precipIntensity': 0.0461,\n",
      "                      'precipProbability': 0.06,\n",
      "                      'precipType': 'rain',\n",
      "                      'pressure': 1020.03,\n",
      "                      'summary': 'Overcast',\n",
      "                      'temperature': 23.91,\n",
      "                      'time': 1560589200,\n",
      "                      'uvIndex': 1,\n",
      "                      'visibility': 16.093,\n",
      "                      'windBearing': 116,\n",
      "                      'windGust': 7.07,\n",
      "                      'windSpeed': 7},\n",
      "                     {'apparentTemperature': 24.35,\n",
      "                      'cloudCover': 0.56,\n",
      "                      'dewPoint': 18.56,\n",
      "                      'humidity': 0.72,\n",
      "                      'icon': 'partly-cloudy-day',\n",
      "                      'ozone': 261.9,\n",
      "                      'precipIntensity': 0.0198,\n",
      "                      'precipProbability': 0.02,\n",
      "                      'precipType': 'rain',\n",
      "                      'pressure': 1020.39,\n",
      "                      'summary': 'Mostly Cloudy',\n",
      "                      'temperature': 24.03,\n",
      "                      'time': 1560592800,\n",
      "                      'uvIndex': 3,\n",
      "                      'visibility': 16.093,\n",
      "                      'windBearing': 120,\n",
      "                      'windGust': 7.06,\n",
      "                      'windSpeed': 7.04},\n",
      "                     {'apparentTemperature': 24.5,\n",
      "                      'cloudCover': 0.68,\n",
      "                      'dewPoint': 18.36,\n",
      "                      'humidity': 0.7,\n",
      "                      'icon': 'partly-cloudy-day',\n",
      "                      'ozone': 261.9,\n",
      "                      'precipIntensity': 0,\n",
      "                      'precipProbability': 0,\n",
      "                      'pressure': 1020.08,\n",
      "                      'summary': 'Mostly Cloudy',\n",
      "                      'temperature': 24.2,\n",
      "                      'time': 1560596400,\n",
      "                      'uvIndex': 4,\n",
      "                      'visibility': 16.093,\n",
      "                      'windBearing': 123,\n",
      "                      'windGust': 6.89,\n",
      "                      'windSpeed': 6.59},\n",
      "                     {'apparentTemperature': 24.37,\n",
      "                      'cloudCover': 0.81,\n",
      "                      'dewPoint': 18.06,\n",
      "                      'humidity': 0.69,\n",
      "                      'icon': 'partly-cloudy-day',\n",
      "                      'ozone': 261.8,\n",
      "                      'precipIntensity': 0.0353,\n",
      "                      'precipProbability': 0.05,\n",
      "                      'precipType': 'rain',\n",
      "                      'pressure': 1020.17,\n",
      "                      'summary': 'Mostly Cloudy',\n",
      "                      'temperature': 24.1,\n",
      "                      'time': 1560600000,\n",
      "                      'uvIndex': 5,\n",
      "                      'visibility': 16.093,\n",
      "                      'windBearing': 123,\n",
      "                      'windGust': 7.01,\n",
      "                      'windSpeed': 6.91},\n",
      "                     {'apparentTemperature': 24.21,\n",
      "                      'cloudCover': 0.66,\n",
      "                      'dewPoint': 17.77,\n",
      "                      'humidity': 0.68,\n",
      "                      'icon': 'partly-cloudy-day',\n",
      "                      'ozone': 261.4,\n",
      "                      'precipIntensity': 0.052,\n",
      "                      'precipProbability': 0.07,\n",
      "                      'precipType': 'rain',\n",
      "                      'pressure': 1019.48,\n",
      "                      'summary': 'Mostly Cloudy',\n",
      "                      'temperature': 23.98,\n",
      "                      'time': 1560603600,\n",
      "                      'uvIndex': 6,\n",
      "                      'visibility': 16.093,\n",
      "                      'windBearing': 121,\n",
      "                      'windGust': 7.04,\n",
      "                      'windSpeed': 7.04},\n",
      "                     {'apparentTemperature': 24.19,\n",
      "                      'cloudCover': 0.7,\n",
      "                      'dewPoint': 17.62,\n",
      "                      'humidity': 0.68,\n",
      "                      'icon': 'partly-cloudy-day',\n",
      "                      'ozone': 260.9,\n",
      "                      'precipIntensity': 0.0059,\n",
      "                      'precipProbability': 0.04,\n",
      "                      'precipType': 'rain',\n",
      "                      'pressure': 1018.5,\n",
      "                      'summary': 'Mostly Cloudy',\n",
      "                      'temperature': 23.97,\n",
      "                      'time': 1560607200,\n",
      "                      'uvIndex': 5,\n",
      "                      'visibility': 16.093,\n",
      "                      'windBearing': 121,\n",
      "                      'windGust': 6.99,\n",
      "                      'windSpeed': 6.99},\n",
      "                     {'apparentTemperature': 24.18,\n",
      "                      'cloudCover': 0.67,\n",
      "                      'dewPoint': 17.48,\n",
      "                      'humidity': 0.67,\n",
      "                      'icon': 'partly-cloudy-day',\n",
      "                      'ozone': 260.3,\n",
      "                      'precipIntensity': 0.0132,\n",
      "                      'precipProbability': 0.05,\n",
      "                      'precipType': 'rain',\n",
      "                      'pressure': 1018.02,\n",
      "                      'summary': 'Mostly Cloudy',\n",
      "                      'temperature': 23.98,\n",
      "                      'time': 1560610800,\n",
      "                      'uvIndex': 4,\n",
      "                      'visibility': 16.093,\n",
      "                      'windBearing': 122,\n",
      "                      'windGust': 6.9,\n",
      "                      'windSpeed': 6.9},\n",
      "                     {'apparentTemperature': 24.29,\n",
      "                      'cloudCover': 0.64,\n",
      "                      'dewPoint': 17.24,\n",
      "                      'humidity': 0.65,\n",
      "                      'icon': 'partly-cloudy-day',\n",
      "                      'ozone': 259.8,\n",
      "                      'precipIntensity': 0,\n",
      "                      'precipProbability': 0,\n",
      "                      'pressure': 1017.25,\n",
      "                      'summary': 'Mostly Cloudy',\n",
      "                      'temperature': 24.11,\n",
      "                      'time': 1560614400,\n",
      "                      'uvIndex': 2,\n",
      "                      'visibility': 16.093,\n",
      "                      'windBearing': 122,\n",
      "                      'windGust': 6.82,\n",
      "                      'windSpeed': 6.82},\n",
      "                     {'apparentTemperature': 24.42,\n",
      "                      'cloudCover': 0.52,\n",
      "                      'dewPoint': 16.93,\n",
      "                      'humidity': 0.64,\n",
      "                      'icon': 'partly-cloudy-day',\n",
      "                      'ozone': 259.2,\n",
      "                      'precipIntensity': 0,\n",
      "                      'precipProbability': 0,\n",
      "                      'pressure': 1017.34,\n",
      "                      'summary': 'Mostly Cloudy',\n",
      "                      'temperature': 24.28,\n",
      "                      'time': 1560618000,\n",
      "                      'uvIndex': 1,\n",
      "                      'visibility': 16.093,\n",
      "                      'windBearing': 120,\n",
      "                      'windGust': 6.87,\n",
      "                      'windSpeed': 6.86},\n",
      "                     {'apparentTemperature': 24.3,\n",
      "                      'cloudCover': 0.45,\n",
      "                      'dewPoint': 16.77,\n",
      "                      'humidity': 0.63,\n",
      "                      'icon': 'partly-cloudy-day',\n",
      "                      'ozone': 258.9,\n",
      "                      'precipIntensity': 0,\n",
      "                      'precipProbability': 0,\n",
      "                      'pressure': 1017.53,\n",
      "                      'summary': 'Partly Cloudy',\n",
      "                      'temperature': 24.17,\n",
      "                      'time': 1560621600,\n",
      "                      'uvIndex': 0,\n",
      "                      'visibility': 16.093,\n",
      "                      'windBearing': 118,\n",
      "                      'windGust': 7.01,\n",
      "                      'windSpeed': 6.93},\n",
      "                     {'apparentTemperature': 24.1,\n",
      "                      'cloudCover': 0.44,\n",
      "                      'dewPoint': 16.71,\n",
      "                      'humidity': 0.64,\n",
      "                      'icon': 'partly-cloudy-night',\n",
      "                      'ozone': 259.1,\n",
      "                      'precipIntensity': 0.0088,\n",
      "                      'precipProbability': 0.03,\n",
      "                      'precipType': 'rain',\n",
      "                      'pressure': 1018.42,\n",
      "                      'summary': 'Partly Cloudy',\n",
      "                      'temperature': 23.98,\n",
      "                      'time': 1560625200,\n",
      "                      'uvIndex': 0,\n",
      "                      'visibility': 16.093,\n",
      "                      'windBearing': 115,\n",
      "                      'windGust': 7.17,\n",
      "                      'windSpeed': 6.99},\n",
      "                     {'apparentTemperature': 23.89,\n",
      "                      'cloudCover': 0.46,\n",
      "                      'dewPoint': 16.72,\n",
      "                      'humidity': 0.65,\n",
      "                      'icon': 'partly-cloudy-night',\n",
      "                      'ozone': 259.5,\n",
      "                      'precipIntensity': 0.0107,\n",
      "                      'precipProbability': 0.03,\n",
      "                      'precipType': 'rain',\n",
      "                      'pressure': 1018.6,\n",
      "                      'summary': 'Partly Cloudy',\n",
      "                      'temperature': 23.77,\n",
      "                      'time': 1560628800,\n",
      "                      'uvIndex': 0,\n",
      "                      'visibility': 16.093,\n",
      "                      'windBearing': 114,\n",
      "                      'windGust': 7.24,\n",
      "                      'windSpeed': 6.92},\n",
      "                     {'apparentTemperature': 23.65,\n",
      "                      'cloudCover': 0.34,\n",
      "                      'dewPoint': 16.8,\n",
      "                      'humidity': 0.66,\n",
      "                      'icon': 'partly-cloudy-night',\n",
      "                      'ozone': 259.7,\n",
      "                      'precipIntensity': 0.0236,\n",
      "                      'precipProbability': 0.05,\n",
      "                      'precipType': 'rain',\n",
      "                      'pressure': 1018.89,\n",
      "                      'summary': 'Partly Cloudy',\n",
      "                      'temperature': 23.52,\n",
      "                      'time': 1560632400,\n",
      "                      'uvIndex': 0,\n",
      "                      'visibility': 16.093,\n",
      "                      'windBearing': 113,\n",
      "                      'windGust': 7.35,\n",
      "                      'windSpeed': 6.98},\n",
      "                     {'apparentTemperature': 23.61,\n",
      "                      'cloudCover': 0.47,\n",
      "                      'dewPoint': 17.02,\n",
      "                      'humidity': 0.67,\n",
      "                      'icon': 'partly-cloudy-night',\n",
      "                      'ozone': 259.4,\n",
      "                      'precipIntensity': 0.0283,\n",
      "                      'precipProbability': 0.06,\n",
      "                      'precipType': 'rain',\n",
      "                      'pressure': 1019.08,\n",
      "                      'summary': 'Partly Cloudy',\n",
      "                      'temperature': 23.45,\n",
      "                      'time': 1560636000,\n",
      "                      'uvIndex': 0,\n",
      "                      'visibility': 16.093,\n",
      "                      'windBearing': 115,\n",
      "                      'windGust': 7.36,\n",
      "                      'windSpeed': 7.07},\n",
      "                     {'apparentTemperature': 23.56,\n",
      "                      'cloudCover': 0.28,\n",
      "                      'dewPoint': 17.26,\n",
      "                      'humidity': 0.69,\n",
      "                      'icon': 'partly-cloudy-night',\n",
      "                      'ozone': 258.8,\n",
      "                      'precipIntensity': 0.0169,\n",
      "                      'precipProbability': 0.03,\n",
      "                      'precipType': 'rain',\n",
      "                      'pressure': 1019.06,\n",
      "                      'summary': 'Partly Cloudy',\n",
      "                      'temperature': 23.38,\n",
      "                      'time': 1560639600,\n",
      "                      'uvIndex': 0,\n",
      "                      'visibility': 16.093,\n",
      "                      'windBearing': 116,\n",
      "                      'windGust': 7.31,\n",
      "                      'windSpeed': 7.08}],\n",
      "            'icon': 'partly-cloudy-day',\n",
      "            'summary': 'Mostly cloudy throughout the day.'},\n",
      " 'latitude': -12.1111,\n",
      " 'longitude': -12.1111,\n",
      " 'offset': 0,\n",
      " 'timezone': 'Atlantic/St_Helena'}\n"
     ]
    }
   ],
   "source": [
    "city = 'miraflores'\n",
    "\n",
    "file_name = os.path.join(datapath,'{}-weather.csv'.format(city))\n",
    "city_geo = eval(city+\"_geo\")\n",
    "\n",
    "json_list = []\n",
    "for i in range(days_range):\n",
    "    print(\"RETRIEVING FROM DAY: \",i)\n",
    "    if i % 28 == 0 or i == days_range-1: clear_output()\n",
    "    time_iter = int(asctime)+i*daily_seconds\n",
    "    if int(time_iter) > int(end_time): break\n",
    "    #day_weather = get_weather(api_key, city_geo, time_iter, units, lang)\n",
    "    latitude = city_geo[0]\n",
    "    longitude = city_geo[0]\n",
    "    url = \"https://api.darksky.net/forecast/{}/{},{},{}?units={}&lang={}\".format(api_key, latitude, longitude, time_iter, units, lang)\n",
    "    r = requests.get(url)\n",
    "    data = json.loads(r.text)    \n",
    "    day_weather = data\n",
    "    \n",
    "    \n",
    "    pprint(day_weather)\n",
    "    json_list.append(day_weather)\n",
    "    \n",
    "    #def get_weather(api_key, city, time, units, lang):\n",
    "    #latitude = city[0]\n",
    "    #longitude = city[0]\n",
    "    #url = \"https://api.darksky.net/forecast/{}/{},{},{}?units={}&lang={}\".format(api_key, latitude, longitude, time, units, lang)\n",
    "    #r = requests.get(url)\n",
    "    #data = json.loads(r.text)\n",
    "    #return data"
   ]
  },
  {
   "cell_type": "markdown",
   "metadata": {},
   "source": [
    "# print metadata by day and hour"
   ]
  },
  {
   "cell_type": "code",
   "execution_count": 265,
   "metadata": {},
   "outputs": [
    {
     "name": "stdout",
     "output_type": "stream",
     "text": [
      "{'data': [{'apparentTemperatureHigh': 19.66,\n",
      "           'apparentTemperatureHighTime': 1560531600,\n",
      "           'apparentTemperatureLow': 14.53,\n",
      "           'apparentTemperatureLowTime': 1560571200,\n",
      "           'apparentTemperatureMax': 19.66,\n",
      "           'apparentTemperatureMaxTime': 1560531600,\n",
      "           'apparentTemperatureMin': 14.53,\n",
      "           'apparentTemperatureMinTime': 1560571200,\n",
      "           'cloudCover': 0.62,\n",
      "           'dewPoint': 11.58,\n",
      "           'humidity': 0.71,\n",
      "           'icon': 'partly-cloudy-day',\n",
      "           'moonPhase': 0.42,\n",
      "           'ozone': 250.9,\n",
      "           'precipIntensity': 0.0029,\n",
      "           'precipIntensityMax': 0.0551,\n",
      "           'precipIntensityMaxTime': 1560560400,\n",
      "           'precipProbability': 0.06,\n",
      "           'precipType': 'rain',\n",
      "           'pressure': 1016.49,\n",
      "           'summary': 'Mostly cloudy throughout the day.',\n",
      "           'sunriseTime': 1560511637,\n",
      "           'sunsetTime': 1560552742,\n",
      "           'temperatureHigh': 19.66,\n",
      "           'temperatureHighTime': 1560531600,\n",
      "           'temperatureLow': 14.53,\n",
      "           'temperatureLowTime': 1560571200,\n",
      "           'temperatureMax': 19.66,\n",
      "           'temperatureMaxTime': 1560531600,\n",
      "           'temperatureMin': 14.53,\n",
      "           'temperatureMinTime': 1560571200,\n",
      "           'time': 1560488400,\n",
      "           'uvIndex': 7,\n",
      "           'uvIndexTime': 1560531600,\n",
      "           'visibility': 13.927,\n",
      "           'windBearing': 195,\n",
      "           'windGust': 4.89,\n",
      "           'windGustTime': 1560488400,\n",
      "           'windSpeed': 2.09}]}\n"
     ]
    }
   ],
   "source": [
    "pprint(data['daily'])"
   ]
  },
  {
   "cell_type": "code",
   "execution_count": 123,
   "metadata": {},
   "outputs": [
    {
     "name": "stdout",
     "output_type": "stream",
     "text": [
      "{'apparentTemperature': 5.67,\n",
      " 'cloudCover': 0.44,\n",
      " 'dewPoint': 3.06,\n",
      " 'humidity': 0.66,\n",
      " 'icon': 'partly-cloudy-night',\n",
      " 'ozone': 306.9,\n",
      " 'precipIntensity': 0,\n",
      " 'precipProbability': 0,\n",
      " 'pressure': 1019.13,\n",
      " 'summary': 'Partly Cloudy',\n",
      " 'temperature': 9.08,\n",
      " 'time': 1561950000,\n",
      " 'uvIndex': 0,\n",
      " 'visibility': 10.003,\n",
      " 'windBearing': 236,\n",
      " 'windGust': 11.13,\n",
      " 'windSpeed': 7.32}\n"
     ]
    }
   ],
   "source": [
    "pprint(data['hourly']['data'][0])"
   ]
  },
  {
   "cell_type": "code",
   "execution_count": 131,
   "metadata": {},
   "outputs": [
    {
     "name": "stdout",
     "output_type": "stream",
     "text": [
      "partly-cloudy-day\n",
      "Partly cloudy throughout the day.\n"
     ]
    }
   ],
   "source": [
    "print(data['hourly']['icon'], '\\n', data['hourly']['summary'], sep='')"
   ]
  },
  {
   "cell_type": "code",
   "execution_count": 120,
   "metadata": {},
   "outputs": [
    {
     "data": {
      "text/plain": [
       "'Mon Jul  1 23:00:00 2019'"
      ]
     },
     "execution_count": 120,
     "metadata": {},
     "output_type": "execute_result"
    }
   ],
   "source": [
    "ctime(1562032800)"
   ]
  },
  {
   "cell_type": "markdown",
   "metadata": {},
   "source": [
    "# get data\n",
    "The first 1,000 API requests you make every day are free of charge.\n",
    "* https://darksky.net/dev/docs#time-machine-request"
   ]
  },
  {
   "cell_type": "code",
   "execution_count": 275,
   "metadata": {},
   "outputs": [],
   "source": [
    "def get_weather(api_key, city, time, units, lang):\n",
    "    latitude = city[0]\n",
    "    longitude = city[1]\n",
    "    url = \"https://api.darksky.net/forecast/{}/{},{},{}?units={}&lang={}\".format(api_key, latitude, longitude, time, units, lang)\n",
    "    r = requests.get(url)\n",
    "    data = json.loads(r.text)\n",
    "    return data"
   ]
  },
  {
   "cell_type": "markdown",
   "metadata": {},
   "source": [
    "# define data collectors"
   ]
  },
  {
   "cell_type": "code",
   "execution_count": 288,
   "metadata": {},
   "outputs": [],
   "source": [
    "def save_json(city):\n",
    "    file_name = os.path.join(datapath,'{}-weather.csv'.format(city))\n",
    "    city_geo = eval(city+\"_geo\")\n",
    "    \n",
    "    json_list = []\n",
    "    for i in range(days_range):\n",
    "        print(\"RETRIEVING FROM DAY: \",i)\n",
    "        if i % 28 == 0 or i == days_range-1: clear_output()\n",
    "        time_iter = int(asctime)+i*daily_seconds\n",
    "        if int(time_iter) > int(end_time): break\n",
    "        day_weather = get_weather(api_key, city_geo, time_iter, units, lang)\n",
    "        #pprint(day_weather)\n",
    "        json_list.append(day_weather)\n",
    "        #if i == 1: break\n",
    "    file_path = os.path.join(datapath,'{}-weather.json'.format(city))\n",
    "    json.dump(json_list, open(file_path, 'w'))"
   ]
  },
  {
   "cell_type": "code",
   "execution_count": 277,
   "metadata": {},
   "outputs": [],
   "source": [
    "def save_csv(city):\n",
    "    file_name = os.path.join(datapath,'{}-weather.csv'.format(city))\n",
    "    f = csv.writer(open(file_name, \"w\"),lineterminator = '\\n')\n",
    "    f.writerow([\"time\", \"cloudCover\", \"humidity\", \"precipIntensity\", \"windSpeed\"])\n",
    "    \n",
    "    file_name_daily = os.path.join(datapath,'{}-daily_weather.csv'.format(city))\n",
    "    f_daily = csv.writer(open(file_name_daily, \"w\"),lineterminator = '\\n')\n",
    "    f_daily.writerow([\"time\", \"cloudCover\", \"humidity\", \"precipIntensity\", \"windSpeed\"])\n",
    "    \n",
    "    json_data = json.load(open(os.path.join(datapath,'{}-weather.json'.format(city)), 'r'))\n",
    "    i=0\n",
    "    for day_weather in json_data:\n",
    "        time_iter = int(asctime)+i*daily_seconds\n",
    "        if int(time_iter) > int(end_time): break\n",
    "            \n",
    "        date_time = time.strftime('%Y-%m-%d %H:%M:%S', time.localtime(day_weather['daily']['data'][0][\"time\"]))\n",
    "        f_daily.writerow(\n",
    "            [date_time,\n",
    "            day_weather['daily']['data'][0][\"cloudCover\"],\n",
    "            day_weather['daily']['data'][0][\"humidity\"],\n",
    "            day_weather['daily']['data'][0][\"precipIntensity\"],\n",
    "            day_weather['daily']['data'][0][\"windSpeed\"],\n",
    "            ])        \n",
    "            \n",
    "        hours = day_weather['hourly']['data']        \n",
    "        for key in hours:\n",
    "            if key[\"time\"] < int(asctime): continue\n",
    "            date_time = time.strftime('%Y-%m-%d %H:%M:%S', time.localtime(key[\"time\"]))\n",
    "            f.writerow(\n",
    "                [date_time,\n",
    "                key[\"cloudCover\"],\n",
    "                key[\"humidity\"],\n",
    "                key[\"precipIntensity\"],\n",
    "                key[\"windSpeed\"],\n",
    "                ])\n",
    "        i+=1"
   ]
  },
  {
   "cell_type": "code",
   "execution_count": 285,
   "metadata": {},
   "outputs": [
    {
     "data": {
      "text/plain": [
       "'1566874800'"
      ]
     },
     "execution_count": 285,
     "metadata": {},
     "output_type": "execute_result"
    }
   ],
   "source": [
    "time_tuple = (2019, 8, 27, 0, 0, 0, 0, 0, 0) # this is the standard for the database\n",
    "#time_tuple = (2019, 6, 15, 0, 0, 0, 0, 0, 0)\n",
    "end_time = str(int(time.mktime(time_tuple)))\n",
    "end_time"
   ]
  },
  {
   "cell_type": "code",
   "execution_count": 286,
   "metadata": {},
   "outputs": [],
   "source": [
    "time_tuple = (2018, 10, 1, 0, 0, 0, 0, 0, 0) # this is the standard for the database\n",
    "#time_tuple = (2019, 6, 14, 0, 0, 0, 0, 0, 0)\n",
    "asctime = str(int(time.mktime(time_tuple))) #\"1538362800\"\n",
    "units = \"si\"\n",
    "lang = \"en\"\n",
    "daily_seconds = 60*60*24 # = number of seconds in a day\n",
    "days_range = int((int(end_time)-int(asctime))/daily_seconds)\n",
    "#days_in_month = days_in_month-1"
   ]
  },
  {
   "cell_type": "code",
   "execution_count": 287,
   "metadata": {},
   "outputs": [
    {
     "data": {
      "text/plain": [
       "330"
      ]
     },
     "execution_count": 287,
     "metadata": {},
     "output_type": "execute_result"
    }
   ],
   "source": [
    "days_range"
   ]
  },
  {
   "cell_type": "markdown",
   "metadata": {},
   "source": [
    "### save json"
   ]
  },
  {
   "cell_type": "code",
   "execution_count": 291,
   "metadata": {},
   "outputs": [],
   "source": [
    "save_json(\"montevideo\")"
   ]
  },
  {
   "cell_type": "code",
   "execution_count": 289,
   "metadata": {},
   "outputs": [],
   "source": [
    "save_json(\"miraflores\")"
   ]
  },
  {
   "cell_type": "code",
   "execution_count": 117,
   "metadata": {},
   "outputs": [],
   "source": [
    "save_json(\"rj_meier\")"
   ]
  },
  {
   "cell_type": "code",
   "execution_count": 119,
   "metadata": {},
   "outputs": [],
   "source": [
    "save_json(\"rj_lagoa\")"
   ]
  },
  {
   "cell_type": "code",
   "execution_count": 120,
   "metadata": {},
   "outputs": [],
   "source": [
    "save_json(\"rj_barra\")"
   ]
  },
  {
   "cell_type": "markdown",
   "metadata": {},
   "source": [
    "### analyse json"
   ]
  },
  {
   "cell_type": "code",
   "execution_count": 79,
   "metadata": {},
   "outputs": [],
   "source": [
    "test = json.load(open(os.path.join(datapath,'{}-weather.json'.format(\"montevideo\")), 'r'))\n",
    "test[0]"
   ]
  },
  {
   "cell_type": "code",
   "execution_count": null,
   "metadata": {},
   "outputs": [],
   "source": [
    "test[1]"
   ]
  },
  {
   "cell_type": "markdown",
   "metadata": {},
   "source": [
    "### save csv"
   ]
  },
  {
   "cell_type": "code",
   "execution_count": 292,
   "metadata": {},
   "outputs": [],
   "source": [
    "save_csv(\"montevideo\")"
   ]
  },
  {
   "cell_type": "code",
   "execution_count": 290,
   "metadata": {},
   "outputs": [],
   "source": [
    "save_csv(\"miraflores\")"
   ]
  },
  {
   "cell_type": "code",
   "execution_count": 118,
   "metadata": {},
   "outputs": [],
   "source": [
    "save_csv(\"rj_meier\")"
   ]
  },
  {
   "cell_type": "code",
   "execution_count": 121,
   "metadata": {},
   "outputs": [],
   "source": [
    "save_csv(\"rj_lagoa\")"
   ]
  },
  {
   "cell_type": "code",
   "execution_count": 122,
   "metadata": {},
   "outputs": [],
   "source": [
    "save_csv(\"rj_barra\")"
   ]
  },
  {
   "cell_type": "markdown",
   "metadata": {},
   "source": [
    "# get average from a city\n",
    "cities: Rio de Janeiro"
   ]
  },
  {
   "cell_type": "markdown",
   "metadata": {},
   "source": [
    "if you need to ge average using csvs"
   ]
  },
  {
   "cell_type": "code",
   "execution_count": 215,
   "metadata": {},
   "outputs": [],
   "source": [
    "def get_avg(column):\n",
    "    dvalue = 0\n",
    "    for k, v in rj_dict.items():\n",
    "        dvalue = (float(v[i][column]) + dvalue)\n",
    "    return dvalue/3"
   ]
  },
  {
   "cell_type": "code",
   "execution_count": 216,
   "metadata": {},
   "outputs": [],
   "source": [
    "rj_dict = {}\n",
    "for region in ['rj_barra-weather.csv','rj_lagoa-weather.csv', 'rj_meier-weather.csv']:\n",
    "    file = os.path.join(datapath,region)\n",
    "    reader = csv.reader(open(file, 'r'))\n",
    "    key_name = region[:-12]\n",
    "    rj_dict[key_name] = list(reader)[1:]"
   ]
  },
  {
   "cell_type": "code",
   "execution_count": 217,
   "metadata": {},
   "outputs": [
    {
     "data": {
      "text/plain": [
       "['2019-08-26 22:00:00', '0.38', '0.78', '0.9387', '5.19']"
      ]
     },
     "execution_count": 217,
     "metadata": {},
     "output_type": "execute_result"
    }
   ],
   "source": [
    "rj_dict['rj_barra'][-1]"
   ]
  },
  {
   "cell_type": "code",
   "execution_count": 218,
   "metadata": {},
   "outputs": [],
   "source": [
    "city = \"rio_de_janeiro\"\n",
    "\n",
    "file_name = os.path.join(datapath,'{}-weather.csv'.format(city))\n",
    "f = csv.writer(open(file_name, \"w\"),lineterminator = '\\n')\n",
    "f.writerow([\"time\", \"cloudCover\", \"humidity\", \"precipIntensity\", \"windSpeed\"])\n",
    "    \n",
    "#using 1 key as reference to get len and time\n",
    "for i in range(len(rj_dict['rj_barra'])):\n",
    "    date_time = rj_dict['rj_barra'][i][0]\n",
    "    data_cloud = get_avg(1)\n",
    "    data_hum = get_avg(2)\n",
    "    data_prec = get_avg(3)\n",
    "    f.writerow(\n",
    "        [date_time,\n",
    "        data_cloud,\n",
    "        data_hum,\n",
    "        data_prec,\n",
    "        ])"
   ]
  },
  {
   "cell_type": "markdown",
   "metadata": {},
   "source": [
    "if you need to ge average using jsons\n",
    "\n",
    "only needed to get daily data, because hourly data was already gathered."
   ]
  },
  {
   "cell_type": "code",
   "execution_count": 219,
   "metadata": {},
   "outputs": [],
   "source": [
    "city = \"rio_de_janeiro\""
   ]
  },
  {
   "cell_type": "code",
   "execution_count": 226,
   "metadata": {},
   "outputs": [],
   "source": [
    "def get_avg_json(column):\n",
    "    dvalue = 0\n",
    "    for k, v in rj_dict_from_json.items():\n",
    "        #dvalue = (float(v[i][column]) + dvalue)\n",
    "        dvalue = rj_dict_from_json[k][i]['daily']['data'][0][column] + dvalue\n",
    "    return dvalue/3"
   ]
  },
  {
   "cell_type": "code",
   "execution_count": 227,
   "metadata": {},
   "outputs": [],
   "source": [
    "rj_dict_from_json = {}\n",
    "for region in ['rj_barra-weather.json','rj_lagoa-weather.json', 'rj_meier-weather.json']:\n",
    "    file = os.path.join(datapath,region)\n",
    "    reader = json.load(open(file, 'r'))\n",
    "    key_name = region[:-13]\n",
    "    rj_dict_from_json[key_name] = list(reader)\n",
    "file_path = os.path.join(datapath,'{}-weather.json'.format(city))\n",
    "json.dump(rj_dict_from_json, open(file_path, 'w'))"
   ]
  },
  {
   "cell_type": "raw",
   "metadata": {},
   "source": [
    "dvalue = 0\n",
    "for k, v in rj_dict_from_json.items():\n",
    "    print(rj_dict_from_json[k][0]['daily']['data'][0]['precipIntensity'])"
   ]
  },
  {
   "cell_type": "code",
   "execution_count": 228,
   "metadata": {},
   "outputs": [],
   "source": [
    "city = \"rio_de_janeiro\"\n",
    "\n",
    "file_name = os.path.join(datapath,'{}-weather.csv'.format(city))\n",
    "f = csv.writer(open(file_name, \"w\"),lineterminator = '\\n')\n",
    "f.writerow([\"time\", \"cloudCover\", \"humidity\", \"precipIntensity\", \"windSpeed\"])\n",
    "\n",
    "file_name_daily = os.path.join(datapath,'{}-daily_weather.csv'.format(city))\n",
    "f_daily = csv.writer(open(file_name_daily, \"w\"),lineterminator = '\\n')\n",
    "f_daily.writerow([\"time\", \"cloudCover\", \"humidity\", \"precipIntensity\", \"windSpeed\"])\n",
    "    \n",
    "json_data = json.load(open(os.path.join(datapath,'{}-weather.json'.format(city)), 'r'))\n",
    "#i=0\n",
    "for i in range(len(rj_dict_from_json['rj_barra'])):\n",
    "    date_time = rj_dict_from_json['rj_barra'][i]['daily']['data'][0]['time']\n",
    "    date_time = time.strftime('%Y-%m-%d %H:%M:%S', time.localtime(date_time))\n",
    "    data_cloud = get_avg_json(\"cloudCover\")\n",
    "    data_hum = get_avg_json(\"humidity\")\n",
    "    data_prec = get_avg_json(\"precipIntensity\")\n",
    "    data_wind = get_avg_json(\"windSpeed\")\n",
    "    f_daily.writerow(\n",
    "        [date_time,\n",
    "        data_cloud,\n",
    "        data_hum,\n",
    "        data_prec,\n",
    "        data_wind,\n",
    "        ])   "
   ]
  },
  {
   "cell_type": "markdown",
   "metadata": {},
   "source": [
    "# check data consistency"
   ]
  },
  {
   "cell_type": "code",
   "execution_count": 205,
   "metadata": {},
   "outputs": [
    {
     "data": {
      "text/plain": [
       "'1560477600'"
      ]
     },
     "execution_count": 205,
     "metadata": {},
     "output_type": "execute_result"
    }
   ],
   "source": [
    "str(int(time.mktime((2019, 6, 13, 23, 0, 0, 0, 0, 0))))"
   ]
  },
  {
   "cell_type": "code",
   "execution_count": null,
   "metadata": {},
   "outputs": [],
   "source": [
    "1560394800"
   ]
  },
  {
   "cell_type": "code",
   "execution_count": 214,
   "metadata": {},
   "outputs": [
    {
     "name": "stdout",
     "output_type": "stream",
     "text": [
      "{'currently': {'apparentTemperature': 22.68,\n",
      "               'cloudCover': 0.05,\n",
      "               'dewPoint': 18.8,\n",
      "               'humidity': 0.81,\n",
      "               'icon': 'rain',\n",
      "               'ozone': 249,\n",
      "               'precipIntensity': 0.7864,\n",
      "               'precipProbability': 0.33,\n",
      "               'precipType': 'rain',\n",
      "               'pressure': 1024.82,\n",
      "               'summary': 'Possible Light Rain',\n",
      "               'temperature': 22.29,\n",
      "               'time': 1560481200,\n",
      "               'uvIndex': 0,\n",
      "               'visibility': 16.093,\n",
      "               'windBearing': 102,\n",
      "               'windGust': 6.59,\n",
      "               'windSpeed': 6.41},\n",
      " 'daily': {'data': [{'apparentTemperatureHigh': 24.6,\n",
      "                     'apparentTemperatureHighTime': 1560517200,\n",
      "                     'apparentTemperatureLow': 23.21,\n",
      "                     'apparentTemperatureLowTime': 1560585600,\n",
      "                     'apparentTemperatureMax': 24.6,\n",
      "                     'apparentTemperatureMaxTime': 1560517200,\n",
      "                     'apparentTemperatureMin': 22.5,\n",
      "                     'apparentTemperatureMinTime': 1560488400,\n",
      "                     'cloudCover': 0.31,\n",
      "                     'dewPoint': 18.85,\n",
      "                     'humidity': 0.76,\n",
      "                     'icon': 'rain',\n",
      "                     'moonPhase': 0.42,\n",
      "                     'ozone': 247.9,\n",
      "                     'precipIntensity': 2.5999,\n",
      "                     'precipIntensityMax': 29.0115,\n",
      "                     'precipIntensityMaxTime': 1560546000,\n",
      "                     'precipProbability': 0.76,\n",
      "                     'precipType': 'rain',\n",
      "                     'pressure': 1024.07,\n",
      "                     'summary': 'Heavy rain starting in the afternoon.',\n",
      "                     'sunriseTime': 1560499868,\n",
      "                     'sunsetTime': 1560538525,\n",
      "                     'temperatureHigh': 24.25,\n",
      "                     'temperatureHighTime': 1560535200,\n",
      "                     'temperatureLow': 22.76,\n",
      "                     'temperatureLowTime': 1560582000,\n",
      "                     'temperatureMax': 24.25,\n",
      "                     'temperatureMaxTime': 1560535200,\n",
      "                     'temperatureMin': 22.04,\n",
      "                     'temperatureMinTime': 1560488400,\n",
      "                     'time': 1560477600,\n",
      "                     'uvIndex': 5,\n",
      "                     'uvIndexTime': 1560517200,\n",
      "                     'visibility': 16.093,\n",
      "                     'windBearing': 96,\n",
      "                     'windGust': 9.36,\n",
      "                     'windGustTime': 1560513600,\n",
      "                     'windSpeed': 7.39}]},\n",
      " 'flags': {'sources': ['cmc', 'gfs', 'icon', 'isd', 'madis'], 'units': 'si'},\n",
      " 'hourly': {'data': [{'apparentTemperature': 22.85,\n",
      "                      'cloudCover': 0.04,\n",
      "                      'dewPoint': 18.78,\n",
      "                      'humidity': 0.8,\n",
      "                      'icon': 'rain',\n",
      "                      'ozone': 249.1,\n",
      "                      'precipIntensity': 0.5993,\n",
      "                      'precipProbability': 0.31,\n",
      "                      'precipType': 'rain',\n",
      "                      'pressure': 1025.09,\n",
      "                      'summary': 'Possible Light Rain',\n",
      "                      'temperature': 22.46,\n",
      "                      'time': 1560477600,\n",
      "                      'uvIndex': 0,\n",
      "                      'visibility': 16.093,\n",
      "                      'windBearing': 102,\n",
      "                      'windGust': 6.22,\n",
      "                      'windSpeed': 6.09},\n",
      "                     {'apparentTemperature': 22.68,\n",
      "                      'cloudCover': 0.05,\n",
      "                      'dewPoint': 18.8,\n",
      "                      'humidity': 0.81,\n",
      "                      'icon': 'rain',\n",
      "                      'ozone': 249,\n",
      "                      'precipIntensity': 0.7864,\n",
      "                      'precipProbability': 0.33,\n",
      "                      'precipType': 'rain',\n",
      "                      'pressure': 1024.82,\n",
      "                      'summary': 'Possible Light Rain',\n",
      "                      'temperature': 22.29,\n",
      "                      'time': 1560481200,\n",
      "                      'uvIndex': 0,\n",
      "                      'visibility': 16.093,\n",
      "                      'windBearing': 102,\n",
      "                      'windGust': 6.59,\n",
      "                      'windSpeed': 6.41},\n",
      "                     {'apparentTemperature': 22.61,\n",
      "                      'cloudCover': 0.06,\n",
      "                      'dewPoint': 18.92,\n",
      "                      'humidity': 0.82,\n",
      "                      'icon': 'clear-night',\n",
      "                      'ozone': 248.3,\n",
      "                      'precipIntensity': 0.5593,\n",
      "                      'precipProbability': 0.29,\n",
      "                      'precipType': 'rain',\n",
      "                      'pressure': 1024.5,\n",
      "                      'summary': 'Clear',\n",
      "                      'temperature': 22.2,\n",
      "                      'time': 1560484800,\n",
      "                      'uvIndex': 0,\n",
      "                      'visibility': 16.093,\n",
      "                      'windBearing': 100,\n",
      "                      'windGust': 6.57,\n",
      "                      'windSpeed': 6.42},\n",
      "                     {'apparentTemperature': 22.5,\n",
      "                      'cloudCover': 0.08,\n",
      "                      'dewPoint': 19.3,\n",
      "                      'humidity': 0.84,\n",
      "                      'icon': 'clear-night',\n",
      "                      'ozone': 247.2,\n",
      "                      'precipIntensity': 0.2979,\n",
      "                      'precipProbability': 0.22,\n",
      "                      'precipType': 'rain',\n",
      "                      'pressure': 1024.14,\n",
      "                      'summary': 'Clear',\n",
      "                      'temperature': 22.04,\n",
      "                      'time': 1560488400,\n",
      "                      'uvIndex': 0,\n",
      "                      'visibility': 16.093,\n",
      "                      'windBearing': 96,\n",
      "                      'windGust': 6.49,\n",
      "                      'windSpeed': 6.29},\n",
      "                     {'apparentTemperature': 22.57,\n",
      "                      'cloudCover': 0.12,\n",
      "                      'dewPoint': 19.62,\n",
      "                      'humidity': 0.86,\n",
      "                      'icon': 'clear-night',\n",
      "                      'ozone': 246.6,\n",
      "                      'precipIntensity': 0.2325,\n",
      "                      'precipProbability': 0.2,\n",
      "                      'precipType': 'rain',\n",
      "                      'pressure': 1023.94,\n",
      "                      'summary': 'Clear',\n",
      "                      'temperature': 22.07,\n",
      "                      'time': 1560492000,\n",
      "                      'uvIndex': 0,\n",
      "                      'visibility': 16.093,\n",
      "                      'windBearing': 95,\n",
      "                      'windGust': 6.5,\n",
      "                      'windSpeed': 6.3},\n",
      "                     {'apparentTemperature': 22.77,\n",
      "                      'cloudCover': 0.2,\n",
      "                      'dewPoint': 19.77,\n",
      "                      'humidity': 0.86,\n",
      "                      'icon': 'partly-cloudy-night',\n",
      "                      'ozone': 246.6,\n",
      "                      'precipIntensity': 0.2442,\n",
      "                      'precipProbability': 0.18,\n",
      "                      'precipType': 'rain',\n",
      "                      'pressure': 1023.99,\n",
      "                      'summary': 'Partly Cloudy',\n",
      "                      'temperature': 22.24,\n",
      "                      'time': 1560495600,\n",
      "                      'uvIndex': 0,\n",
      "                      'visibility': 16.093,\n",
      "                      'windBearing': 97,\n",
      "                      'windGust': 6.72,\n",
      "                      'windSpeed': 6.58},\n",
      "                     {'apparentTemperature': 23.16,\n",
      "                      'cloudCover': 0.3,\n",
      "                      'dewPoint': 19.87,\n",
      "                      'humidity': 0.84,\n",
      "                      'icon': 'partly-cloudy-night',\n",
      "                      'ozone': 246.9,\n",
      "                      'precipIntensity': 0.3102,\n",
      "                      'precipProbability': 0.19,\n",
      "                      'precipType': 'rain',\n",
      "                      'pressure': 1024.19,\n",
      "                      'summary': 'Partly Cloudy',\n",
      "                      'temperature': 22.64,\n",
      "                      'time': 1560499200,\n",
      "                      'uvIndex': 0,\n",
      "                      'visibility': 16.093,\n",
      "                      'windBearing': 100,\n",
      "                      'windGust': 7.03,\n",
      "                      'windSpeed': 7},\n",
      "                     {'apparentTemperature': 23.7,\n",
      "                      'cloudCover': 0.38,\n",
      "                      'dewPoint': 19.84,\n",
      "                      'humidity': 0.81,\n",
      "                      'icon': 'partly-cloudy-day',\n",
      "                      'ozone': 247.3,\n",
      "                      'precipIntensity': 0.355,\n",
      "                      'precipProbability': 0.19,\n",
      "                      'precipType': 'rain',\n",
      "                      'pressure': 1024.41,\n",
      "                      'summary': 'Partly Cloudy',\n",
      "                      'temperature': 23.2,\n",
      "                      'time': 1560502800,\n",
      "                      'uvIndex': 0,\n",
      "                      'visibility': 16.093,\n",
      "                      'windBearing': 104,\n",
      "                      'windGust': 7.46,\n",
      "                      'windSpeed': 7.43},\n",
      "                     {'apparentTemperature': 23.95,\n",
      "                      'cloudCover': 0.44,\n",
      "                      'dewPoint': 19.69,\n",
      "                      'humidity': 0.79,\n",
      "                      'icon': 'partly-cloudy-day',\n",
      "                      'ozone': 247.7,\n",
      "                      'precipIntensity': 0.2556,\n",
      "                      'precipProbability': 0.19,\n",
      "                      'precipType': 'rain',\n",
      "                      'pressure': 1024.65,\n",
      "                      'summary': 'Partly Cloudy',\n",
      "                      'temperature': 23.48,\n",
      "                      'time': 1560506400,\n",
      "                      'uvIndex': 1,\n",
      "                      'visibility': 16.093,\n",
      "                      'windBearing': 104,\n",
      "                      'windGust': 7.94,\n",
      "                      'windSpeed': 7.94},\n",
      "                     {'apparentTemperature': 24.18,\n",
      "                      'cloudCover': 0.47,\n",
      "                      'dewPoint': 19.56,\n",
      "                      'humidity': 0.77,\n",
      "                      'icon': 'partly-cloudy-day',\n",
      "                      'ozone': 248.2,\n",
      "                      'precipIntensity': 0.131,\n",
      "                      'precipProbability': 0.16,\n",
      "                      'precipType': 'rain',\n",
      "                      'pressure': 1024.92,\n",
      "                      'summary': 'Partly Cloudy',\n",
      "                      'temperature': 23.73,\n",
      "                      'time': 1560510000,\n",
      "                      'uvIndex': 3,\n",
      "                      'visibility': 16.093,\n",
      "                      'windBearing': 103,\n",
      "                      'windGust': 8.45,\n",
      "                      'windSpeed': 8.45},\n",
      "                     {'apparentTemperature': 24.6,\n",
      "                      'cloudCover': 0.45,\n",
      "                      'dewPoint': 19.72,\n",
      "                      'humidity': 0.76,\n",
      "                      'icon': 'partly-cloudy-day',\n",
      "                      'ozone': 248.6,\n",
      "                      'precipIntensity': 0.0616,\n",
      "                      'precipProbability': 0.12,\n",
      "                      'precipType': 'rain',\n",
      "                      'pressure': 1024.93,\n",
      "                      'summary': 'Partly Cloudy',\n",
      "                      'temperature': 24.14,\n",
      "                      'time': 1560513600,\n",
      "                      'uvIndex': 4,\n",
      "                      'visibility': 16.093,\n",
      "                      'windBearing': 95,\n",
      "                      'windGust': 9.36,\n",
      "                      'windSpeed': 9.36},\n",
      "                     {'apparentTemperature': 24.6,\n",
      "                      'cloudCover': 0.32,\n",
      "                      'dewPoint': 19.53,\n",
      "                      'humidity': 0.75,\n",
      "                      'icon': 'partly-cloudy-day',\n",
      "                      'ozone': 248.9,\n",
      "                      'precipIntensity': 0.0424,\n",
      "                      'precipProbability': 0.1,\n",
      "                      'precipType': 'rain',\n",
      "                      'pressure': 1024.45,\n",
      "                      'summary': 'Partly Cloudy',\n",
      "                      'temperature': 24.16,\n",
      "                      'time': 1560517200,\n",
      "                      'uvIndex': 5,\n",
      "                      'visibility': 16.093,\n",
      "                      'windBearing': 91,\n",
      "                      'windGust': 9.12,\n",
      "                      'windSpeed': 9.12},\n",
      "                     {'apparentTemperature': 24.39,\n",
      "                      'cloudCover': 0.54,\n",
      "                      'dewPoint': 19.21,\n",
      "                      'humidity': 0.75,\n",
      "                      'icon': 'partly-cloudy-day',\n",
      "                      'ozone': 249.1,\n",
      "                      'precipIntensity': 0.1567,\n",
      "                      'precipProbability': 0.14,\n",
      "                      'precipType': 'rain',\n",
      "                      'pressure': 1023.74,\n",
      "                      'summary': 'Mostly Cloudy',\n",
      "                      'temperature': 23.99,\n",
      "                      'time': 1560520800,\n",
      "                      'uvIndex': 5,\n",
      "                      'visibility': 16.093,\n",
      "                      'windBearing': 92,\n",
      "                      'windGust': 8.66,\n",
      "                      'windSpeed': 8.66},\n",
      "                     {'apparentTemperature': 24.35,\n",
      "                      'cloudCover': 0.41,\n",
      "                      'dewPoint': 18.78,\n",
      "                      'humidity': 0.73,\n",
      "                      'icon': 'partly-cloudy-day',\n",
      "                      'ozone': 249.2,\n",
      "                      'precipIntensity': 0.0827,\n",
      "                      'precipProbability': 0.1,\n",
      "                      'precipType': 'rain',\n",
      "                      'pressure': 1023.16,\n",
      "                      'summary': 'Partly Cloudy',\n",
      "                      'temperature': 24,\n",
      "                      'time': 1560524400,\n",
      "                      'uvIndex': 4,\n",
      "                      'visibility': 16.093,\n",
      "                      'windBearing': 89,\n",
      "                      'windGust': 8.28,\n",
      "                      'windSpeed': 8.28},\n",
      "                     {'apparentTemperature': 24.3,\n",
      "                      'cloudCover': 0.3,\n",
      "                      'dewPoint': 18.42,\n",
      "                      'humidity': 0.71,\n",
      "                      'icon': 'partly-cloudy-day',\n",
      "                      'ozone': 249,\n",
      "                      'precipIntensity': 0.059,\n",
      "                      'precipProbability': 0.08,\n",
      "                      'precipType': 'rain',\n",
      "                      'pressure': 1022.97,\n",
      "                      'summary': 'Partly Cloudy',\n",
      "                      'temperature': 23.99,\n",
      "                      'time': 1560528000,\n",
      "                      'uvIndex': 3,\n",
      "                      'visibility': 16.093,\n",
      "                      'windBearing': 88,\n",
      "                      'windGust': 7.91,\n",
      "                      'windSpeed': 7.91},\n",
      "                     {'apparentTemperature': 24.36,\n",
      "                      'cloudCover': 0.32,\n",
      "                      'dewPoint': 18.19,\n",
      "                      'humidity': 0.7,\n",
      "                      'icon': 'partly-cloudy-day',\n",
      "                      'ozone': 248.7,\n",
      "                      'precipIntensity': 0.0285,\n",
      "                      'precipProbability': 0.07,\n",
      "                      'precipType': 'rain',\n",
      "                      'pressure': 1022.98,\n",
      "                      'summary': 'Partly Cloudy',\n",
      "                      'temperature': 24.08,\n",
      "                      'time': 1560531600,\n",
      "                      'uvIndex': 1,\n",
      "                      'visibility': 16.093,\n",
      "                      'windBearing': 89,\n",
      "                      'windGust': 7.36,\n",
      "                      'windSpeed': 7.36},\n",
      "                     {'apparentTemperature': 24.51,\n",
      "                      'cloudCover': 0.34,\n",
      "                      'dewPoint': 18.06,\n",
      "                      'humidity': 0.68,\n",
      "                      'icon': 'partly-cloudy-day',\n",
      "                      'ozone': 248.4,\n",
      "                      'precipIntensity': 0.034,\n",
      "                      'precipProbability': 0.07,\n",
      "                      'precipType': 'rain',\n",
      "                      'pressure': 1023.03,\n",
      "                      'summary': 'Partly Cloudy',\n",
      "                      'temperature': 24.25,\n",
      "                      'time': 1560535200,\n",
      "                      'uvIndex': 0,\n",
      "                      'visibility': 16.093,\n",
      "                      'windBearing': 91,\n",
      "                      'windGust': 7.04,\n",
      "                      'windSpeed': 7.04},\n",
      "                     {'apparentTemperature': 24.42,\n",
      "                      'cloudCover': 0.36,\n",
      "                      'dewPoint': 17.93,\n",
      "                      'humidity': 0.68,\n",
      "                      'icon': 'partly-cloudy-night',\n",
      "                      'ozone': 248.4,\n",
      "                      'precipIntensity': 0.0426,\n",
      "                      'precipProbability': 0.07,\n",
      "                      'precipType': 'rain',\n",
      "                      'pressure': 1023.37,\n",
      "                      'summary': 'Partly Cloudy',\n",
      "                      'temperature': 24.17,\n",
      "                      'time': 1560538800,\n",
      "                      'uvIndex': 0,\n",
      "                      'visibility': 16.093,\n",
      "                      'windBearing': 94,\n",
      "                      'windGust': 7.04,\n",
      "                      'windSpeed': 7.04},\n",
      "                     {'apparentTemperature': 24.25,\n",
      "                      'cloudCover': 0.44,\n",
      "                      'dewPoint': 17.81,\n",
      "                      'humidity': 0.68,\n",
      "                      'icon': 'partly-cloudy-night',\n",
      "                      'ozone': 248.4,\n",
      "                      'precipIntensity': 0.0347,\n",
      "                      'precipProbability': 0.07,\n",
      "                      'precipType': 'rain',\n",
      "                      'pressure': 1023.73,\n",
      "                      'summary': 'Partly Cloudy',\n",
      "                      'temperature': 24.01,\n",
      "                      'time': 1560542400,\n",
      "                      'uvIndex': 0,\n",
      "                      'visibility': 16.093,\n",
      "                      'windBearing': 95,\n",
      "                      'windGust': 7.09,\n",
      "                      'windSpeed': 7.09},\n",
      "                     {'apparentTemperature': 23.96,\n",
      "                      'cloudCover': 0.36,\n",
      "                      'dewPoint': 17.75,\n",
      "                      'humidity': 0.69,\n",
      "                      'icon': 'rain',\n",
      "                      'ozone': 247.2,\n",
      "                      'precipIntensity': 29.0115,\n",
      "                      'precipProbability': 0.34,\n",
      "                      'precipType': 'rain',\n",
      "                      'pressure': 1023.91,\n",
      "                      'summary': 'Heavy Rain',\n",
      "                      'temperature': 23.73,\n",
      "                      'time': 1560546000,\n",
      "                      'uvIndex': 0,\n",
      "                      'visibility': 16.093,\n",
      "                      'windBearing': 96,\n",
      "                      'windGust': 8.42,\n",
      "                      'windSpeed': 7.52},\n",
      "                     {'apparentTemperature': 23.79,\n",
      "                      'cloudCover': 0.34,\n",
      "                      'dewPoint': 17.85,\n",
      "                      'humidity': 0.7,\n",
      "                      'icon': 'rain',\n",
      "                      'ozone': 247.1,\n",
      "                      'precipIntensity': 28.9661,\n",
      "                      'precipProbability': 0.32,\n",
      "                      'precipType': 'rain',\n",
      "                      'pressure': 1024.23,\n",
      "                      'summary': 'Heavy Rain',\n",
      "                      'temperature': 23.54,\n",
      "                      'time': 1560549600,\n",
      "                      'uvIndex': 0,\n",
      "                      'visibility': 16.093,\n",
      "                      'windBearing': 95,\n",
      "                      'windGust': 8.3,\n",
      "                      'windSpeed': 7.45},\n",
      "                     {'apparentTemperature': 23.76,\n",
      "                      'cloudCover': 0.37,\n",
      "                      'dewPoint': 18.09,\n",
      "                      'humidity': 0.72,\n",
      "                      'icon': 'rain',\n",
      "                      'ozone': 246.9,\n",
      "                      'precipIntensity': 0.0402,\n",
      "                      'precipProbability': 0.31,\n",
      "                      'precipType': 'rain',\n",
      "                      'pressure': 1024.29,\n",
      "                      'summary': 'Possible Drizzle',\n",
      "                      'temperature': 23.48,\n",
      "                      'time': 1560553200,\n",
      "                      'uvIndex': 0,\n",
      "                      'visibility': 16.093,\n",
      "                      'windBearing': 93,\n",
      "                      'windGust': 8.3,\n",
      "                      'windSpeed': 7.29},\n",
      "                     {'apparentTemperature': 23.74,\n",
      "                      'cloudCover': 0.37,\n",
      "                      'dewPoint': 18.31,\n",
      "                      'humidity': 0.73,\n",
      "                      'icon': 'partly-cloudy-night',\n",
      "                      'ozone': 246.7,\n",
      "                      'precipIntensity': 0.0365,\n",
      "                      'precipProbability': 0.12,\n",
      "                      'precipType': 'rain',\n",
      "                      'pressure': 1024.36,\n",
      "                      'summary': 'Partly Cloudy',\n",
      "                      'temperature': 23.43,\n",
      "                      'time': 1560556800,\n",
      "                      'uvIndex': 0,\n",
      "                      'visibility': 16.093,\n",
      "                      'windBearing': 93,\n",
      "                      'windGust': 8.3,\n",
      "                      'windSpeed': 7.2},\n",
      "                     {'apparentTemperature': 23.72,\n",
      "                      'cloudCover': 0.38,\n",
      "                      'dewPoint': 18.52,\n",
      "                      'humidity': 0.74,\n",
      "                      'icon': 'partly-cloudy-night',\n",
      "                      'ozone': 246.4,\n",
      "                      'precipIntensity': 0.0305,\n",
      "                      'precipProbability': 0.13,\n",
      "                      'precipType': 'rain',\n",
      "                      'pressure': 1023.93,\n",
      "                      'summary': 'Partly Cloudy',\n",
      "                      'temperature': 23.39,\n",
      "                      'time': 1560560400,\n",
      "                      'uvIndex': 0,\n",
      "                      'visibility': 16.093,\n",
      "                      'windBearing': 94,\n",
      "                      'windGust': 8.22,\n",
      "                      'windSpeed': 7.24}],\n",
      "            'icon': 'rain',\n",
      "            'summary': 'Heavy rain until morning, starting again in the '\n",
      "                       'evening.'},\n",
      " 'latitude': -22.902686,\n",
      " 'longitude': -22.902686,\n",
      " 'offset': -2,\n",
      " 'timezone': 'Etc/GMT+2'}\n"
     ]
    }
   ],
   "source": [
    "json_data = json.load(open(os.path.join(datapath,'{}-weather.json'.format('rj_meier')), 'r'))\n",
    "i=0\n",
    "for day_weather in json_data:\n",
    "    time_iter = int(asctime)+i*daily_seconds\n",
    "    #print(day_weather['daily']['data'][0][\"time\"])\n",
    "    if day_weather['daily']['data'][0][\"time\"] == 1560477600: pprint(day_weather)\n",
    "    # precip = 2.602"
   ]
  },
  {
   "cell_type": "code",
   "execution_count": null,
   "metadata": {},
   "outputs": [],
   "source": []
  },
  {
   "cell_type": "markdown",
   "metadata": {},
   "source": [
    "# compare day to hours data"
   ]
  },
  {
   "cell_type": "code",
   "execution_count": 10,
   "metadata": {},
   "outputs": [
    {
     "data": {
      "text/plain": [
       "'1567479600'"
      ]
     },
     "execution_count": 10,
     "metadata": {},
     "output_type": "execute_result"
    }
   ],
   "source": [
    "time_tuple = (2019, 4, 9, 0, 0, 0, 0, 0, 0)\n",
    "end_time = str(int(time.mktime(time_tuple)))\n",
    "end_time"
   ]
  },
  {
   "cell_type": "code",
   "execution_count": 12,
   "metadata": {},
   "outputs": [],
   "source": [
    "time_tuple = (2018, 4, 8, 0, 0, 0, 0, 0, 0)\n",
    "asctime = str(int(time.mktime(time_tuple))) #\"1538362800\"\n",
    "units = \"si\"\n",
    "lang = \"en\"\n",
    "daily_seconds = 60*60*24 # = number of seconds in a day\n",
    "days_range = int((int(end_time)-int(asctime))/daily_seconds)\n",
    "#days_in_month = days_in_month-1"
   ]
  },
  {
   "cell_type": "code",
   "execution_count": 33,
   "metadata": {},
   "outputs": [],
   "source": [
    "city = \"rj_lagoa\"\n",
    "city_geo = eval(city+\"_geo\")\n",
    "\n",
    "time_data = []\n",
    "var_data = []\n",
    "time_iter = int(asctime)\n",
    "day_weather = get_weather(api_key, city_geo, time_iter, units, lang)\n",
    "hours = day_weather['hourly']['data']\n",
    "for key in hours:\n",
    "    if key[\"time\"] < int(asctime): continue\n",
    "    date_time = time.strftime('%Y-%m-%d %H:%M:%S', time.localtime(key[\"time\"]))\n",
    "    time_data.append(date_time)\n",
    "    var_data.append(key[\"precipIntensity\"])"
   ]
  },
  {
   "cell_type": "code",
   "execution_count": 49,
   "metadata": {},
   "outputs": [
    {
     "name": "stdout",
     "output_type": "stream",
     "text": [
      "Average from each hour of day: 2.687826086956522\n",
      "daily data: 0.0005\n"
     ]
    }
   ],
   "source": [
    "temp = reduce(lambda x, y: x + y, var_data) / len(var_data)\n",
    "print('Average from each hour of day:', temp)\n",
    "\n",
    "temp = data['daily']['data'][0]['precipIntensity']\n",
    "print('daily data:', temp)"
   ]
  },
  {
   "cell_type": "code",
   "execution_count": 48,
   "metadata": {},
   "outputs": [
    {
     "name": "stdout",
     "output_type": "stream",
     "text": [
      "daily data: 0.0005\n"
     ]
    }
   ],
   "source": []
  },
  {
   "cell_type": "code",
   "execution_count": 51,
   "metadata": {},
   "outputs": [
    {
     "data": {
      "text/plain": [
       "{'data': [{'time': 1560481200,\n",
       "   'summary': 'Humid and partly cloudy throughout the day.',\n",
       "   'icon': 'partly-cloudy-day',\n",
       "   'sunriseTime': 1560504749,\n",
       "   'sunsetTime': 1560543390,\n",
       "   'moonPhase': 0.42,\n",
       "   'precipIntensity': 0.0005,\n",
       "   'precipIntensityMax': 0.003,\n",
       "   'precipIntensityMaxTime': 1560502800,\n",
       "   'precipProbability': 0.05,\n",
       "   'precipType': 'rain',\n",
       "   'temperatureHigh': 28.99,\n",
       "   'temperatureHighTime': 1560524400,\n",
       "   'temperatureLow': 21.64,\n",
       "   'temperatureLowTime': 1560592800,\n",
       "   'apparentTemperatureHigh': 31.31,\n",
       "   'apparentTemperatureHighTime': 1560524400,\n",
       "   'apparentTemperatureLow': 22.21,\n",
       "   'apparentTemperatureLowTime': 1560592800,\n",
       "   'dewPoint': 22.03,\n",
       "   'humidity': 0.83,\n",
       "   'pressure': 1021.65,\n",
       "   'windSpeed': 2.36,\n",
       "   'windGust': 4.94,\n",
       "   'windGustTime': 1560535200,\n",
       "   'windBearing': 64,\n",
       "   'cloudCover': 0.35,\n",
       "   'uvIndex': 6,\n",
       "   'uvIndexTime': 1560524400,\n",
       "   'visibility': 10.439,\n",
       "   'ozone': 241.3,\n",
       "   'temperatureMin': 22.06,\n",
       "   'temperatureMinTime': 1560506400,\n",
       "   'temperatureMax': 28.99,\n",
       "   'temperatureMaxTime': 1560524400,\n",
       "   'apparentTemperatureMin': 22.62,\n",
       "   'apparentTemperatureMinTime': 1560506400,\n",
       "   'apparentTemperatureMax': 31.31,\n",
       "   'apparentTemperatureMaxTime': 1560524400}]}"
      ]
     },
     "execution_count": 51,
     "metadata": {},
     "output_type": "execute_result"
    }
   ],
   "source": [
    "data['daily']"
   ]
  },
  {
   "cell_type": "code",
   "execution_count": null,
   "metadata": {},
   "outputs": [],
   "source": []
  },
  {
   "cell_type": "markdown",
   "metadata": {},
   "source": [
    "# tests"
   ]
  },
  {
   "cell_type": "markdown",
   "metadata": {},
   "source": [
    "### testing time"
   ]
  },
  {
   "cell_type": "markdown",
   "metadata": {},
   "source": [
    "https://realpython.com/python-time-module/#converting-a-local-time-object-to-seconds"
   ]
  },
  {
   "cell_type": "raw",
   "metadata": {},
   "source": [
    "time.time()"
   ]
  },
  {
   "cell_type": "raw",
   "metadata": {},
   "source": [
    "print (time.gmtime()) "
   ]
  },
  {
   "cell_type": "code",
   "execution_count": 16,
   "metadata": {},
   "outputs": [
    {
     "data": {
      "text/plain": [
       "1538362800"
      ]
     },
     "execution_count": 16,
     "metadata": {},
     "output_type": "execute_result"
    }
   ],
   "source": [
    "time_tuple = (2018, 10, 1, 0, 0, 0, 0, 0, 0)\n",
    "int(time.mktime(time_tuple))"
   ]
  },
  {
   "cell_type": "code",
   "execution_count": 17,
   "metadata": {},
   "outputs": [
    {
     "data": {
      "text/plain": [
       "1566874800"
      ]
     },
     "execution_count": 17,
     "metadata": {},
     "output_type": "execute_result"
    }
   ],
   "source": [
    "time_tuple = (2019, 8, 27, 0, 0, 0, 0, 0, 0)\n",
    "int(time.mktime(time_tuple))"
   ]
  },
  {
   "cell_type": "code",
   "execution_count": 20,
   "metadata": {},
   "outputs": [],
   "source": [
    "time_tuple = (2019, 6, 14, 0, 0, 0, 0, 0, 0)\n",
    "end_time = str(int(time.mktime(time_tuple)))"
   ]
  },
  {
   "cell_type": "code",
   "execution_count": 21,
   "metadata": {},
   "outputs": [
    {
     "data": {
      "text/plain": [
       "'1560481200'"
      ]
     },
     "execution_count": 21,
     "metadata": {},
     "output_type": "execute_result"
    }
   ],
   "source": [
    "end_time"
   ]
  },
  {
   "cell_type": "code",
   "execution_count": 22,
   "metadata": {},
   "outputs": [],
   "source": [
    "latitude=rj_lagoa_geo[0]\n",
    "longitude=rj_lagoa_geo[1]\n",
    "asctime= end_time\n",
    "units = \"si\"\n",
    "lang = \"en\""
   ]
  },
  {
   "cell_type": "code",
   "execution_count": null,
   "metadata": {},
   "outputs": [],
   "source": [
    "url = \"https://api.darksky.net/forecast/{}/{},{},{}?units={}&lang={}\".format(api_key, latitude, longitude, asctime, units, lang)\n",
    "print(url)\n",
    "r = requests.get(url)\n",
    "data = json.loads(r.text)"
   ]
  },
  {
   "cell_type": "markdown",
   "metadata": {},
   "source": [
    "# print metadata by day and hour"
   ]
  },
  {
   "cell_type": "code",
   "execution_count": 126,
   "metadata": {
    "scrolled": true
   },
   "outputs": [
    {
     "name": "stdout",
     "output_type": "stream",
     "text": [
      "{'data': [{'apparentTemperatureHigh': 6.79,\n",
      "           'apparentTemperatureHighTime': 1562004000,\n",
      "           'apparentTemperatureLow': 1.3,\n",
      "           'apparentTemperatureLowTime': 1562032800,\n",
      "           'apparentTemperatureMax': 6.79,\n",
      "           'apparentTemperatureMaxTime': 1562004000,\n",
      "           'apparentTemperatureMin': 1.3,\n",
      "           'apparentTemperatureMinTime': 1562032800,\n",
      "           'cloudCover': 0.21,\n",
      "           'dewPoint': 1.82,\n",
      "           'humidity': 0.66,\n",
      "           'icon': 'partly-cloudy-day',\n",
      "           'moonPhase': 0.97,\n",
      "           'ozone': 314.9,\n",
      "           'precipIntensity': 0.0015,\n",
      "           'precipIntensityMax': 0.0072,\n",
      "           'precipIntensityMaxTime': 1562004000,\n",
      "           'precipProbability': 0.07,\n",
      "           'precipType': 'rain',\n",
      "           'pressure': 1016.92,\n",
      "           'summary': 'Windy in the morning and overnight.',\n",
      "           'sunriseTime': 1561978460,\n",
      "           'sunsetTime': 1562013906,\n",
      "           'temperatureHigh': 9.85,\n",
      "           'temperatureHighTime': 1562004000,\n",
      "           'temperatureLow': 4.73,\n",
      "           'temperatureLowTime': 1562025600,\n",
      "           'temperatureMax': 9.85,\n",
      "           'temperatureMaxTime': 1562004000,\n",
      "           'temperatureMin': 4.73,\n",
      "           'temperatureMinTime': 1562025600,\n",
      "           'time': 1561950000,\n",
      "           'uvIndex': 2,\n",
      "           'uvIndexTime': 1561996800,\n",
      "           'visibility': 10.247,\n",
      "           'windBearing': 272,\n",
      "           'windGust': 15.68,\n",
      "           'windGustTime': 1562036400,\n",
      "           'windSpeed': 6.02}]}\n"
     ]
    }
   ],
   "source": [
    "pprint(data['daily'])"
   ]
  },
  {
   "cell_type": "code",
   "execution_count": 189,
   "metadata": {},
   "outputs": [
    {
     "data": {
      "text/plain": [
       "'1560394800'"
      ]
     },
     "execution_count": 189,
     "metadata": {},
     "output_type": "execute_result"
    }
   ],
   "source": [
    "str(int(time.mktime((2019, 6, 13, 0, 0, 0, 0, 0, 0))))"
   ]
  },
  {
   "cell_type": "code",
   "execution_count": 29,
   "metadata": {},
   "outputs": [
    {
     "data": {
      "text/plain": [
       "'1560546000'"
      ]
     },
     "execution_count": 29,
     "metadata": {},
     "output_type": "execute_result"
    }
   ],
   "source": [
    "str(int(time.mktime((2019, 6, 14, 18, 0, 0, 0, 0, 0))))"
   ]
  },
  {
   "cell_type": "code",
   "execution_count": 76,
   "metadata": {},
   "outputs": [],
   "source": [
    "def save_csv(city):\n",
    "    file_name = os.path.join(datapath,'{}-weather.csv'.format(city))\n",
    "    city_geo = eval(city+\"_geo\")\n",
    "    \n",
    "    f = csv.writer(open(file_name, \"w\"),lineterminator = '\\n')\n",
    "    f.writerow([\"time\", \"cloudCover\", \"humidity\", \"precipIntensity\", \"windSpeed\"])\n",
    "    \n",
    "    for i in range(days_range):\n",
    "        print(\"RETRIEVING FROM DAY: \",i)\n",
    "        if i % 28 == 0 or i == days_range-1: clear_output()\n",
    "        time_iter = int(asctime)+i*daily_seconds\n",
    "        if int(time_iter) > int(end_time): break\n",
    "        day_weather = get_weather(api_key, city_geo, time_iter, units, lang)\n",
    "        hours = day_weather['hourly']['data']\n",
    "        for key in hours:\n",
    "            if key[\"time\"] < int(asctime): continue\n",
    "            date_time = time.strftime('%Y-%m-%d %H:%M:%S', time.localtime(key[\"time\"]))\n",
    "            f.writerow(\n",
    "                [date_time,\n",
    "                key[\"cloudCover\"],\n",
    "                key[\"humidity\"],\n",
    "                key[\"precipIntensity\"],\n",
    "                key[\"windSpeed\"],\n",
    "                ])\n",
    "        #if i == 1: break"
   ]
  },
  {
   "cell_type": "code",
   "execution_count": null,
   "metadata": {},
   "outputs": [],
   "source": []
  }
 ],
 "metadata": {
  "kernelspec": {
   "display_name": "Python 3",
   "language": "python",
   "name": "python3"
  },
  "language_info": {
   "codemirror_mode": {
    "name": "ipython",
    "version": 3
   },
   "file_extension": ".py",
   "mimetype": "text/x-python",
   "name": "python",
   "nbconvert_exporter": "python",
   "pygments_lexer": "ipython3",
   "version": "3.7.1"
  }
 },
 "nbformat": 4,
 "nbformat_minor": 2
}
