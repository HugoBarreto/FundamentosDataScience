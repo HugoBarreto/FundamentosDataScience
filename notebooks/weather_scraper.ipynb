{
 "cells": [
  {
   "cell_type": "code",
   "execution_count": 38,
   "metadata": {},
   "outputs": [],
   "source": [
    "import os\n",
    "import requests\n",
    "import json\n",
    "from pprint import pprint\n",
    "import time\n",
    "from time import ctime\n",
    "#import datetime\n",
    "import csv\n",
    "\n",
    "from functools import reduce\n",
    "\n",
    "from IPython.display import clear_output"
   ]
  },
  {
   "cell_type": "code",
   "execution_count": 2,
   "metadata": {},
   "outputs": [],
   "source": [
    "datapath = \"../data/\"\n",
    "outputs = \"../outputs/\""
   ]
  },
  {
   "cell_type": "code",
   "execution_count": 115,
   "metadata": {},
   "outputs": [],
   "source": [
    "api_key = \"c0c23ee1793316f86663e645642d8754\" # marcelo\n",
    "#api_key = \"e4532171a9f967f4ab9db0763a8bbd87\" # hugo"
   ]
  },
  {
   "cell_type": "code",
   "execution_count": 4,
   "metadata": {},
   "outputs": [],
   "source": [
    "montevideo_geo = [-34.9011, -56.1645]\n",
    "miraflores_geo = [-12.1111, -77.0316]"
   ]
  },
  {
   "cell_type": "code",
   "execution_count": 5,
   "metadata": {},
   "outputs": [],
   "source": [
    "rj_meier_geo = [-22.902686, -43.278779]\n",
    "rj_lagoa_geo = [-22.962273, -43.203564]\n",
    "rj_barra_geo = [-22.998090, -43.359757]"
   ]
  },
  {
   "cell_type": "markdown",
   "metadata": {},
   "source": [
    "# links\n",
    "* https://darksky.net/dev/docs\n",
    "* https://github.com/bitpixdigital/forecastiopy3"
   ]
  },
  {
   "cell_type": "markdown",
   "metadata": {},
   "source": [
    "# get data using requests\n",
    "month = july"
   ]
  },
  {
   "cell_type": "markdown",
   "metadata": {},
   "source": [
    "SI means International System"
   ]
  },
  {
   "cell_type": "code",
   "execution_count": 6,
   "metadata": {},
   "outputs": [],
   "source": [
    "latitude=montevideo_geo[0]\n",
    "longitude=montevideo_geo[1]\n",
    "asctime= \"1561950061\"\n",
    "units = \"si\"\n",
    "lang = \"en\""
   ]
  },
  {
   "cell_type": "code",
   "execution_count": 7,
   "metadata": {},
   "outputs": [
    {
     "name": "stdout",
     "output_type": "stream",
     "text": [
      "https://api.darksky.net/forecast/c0c23ee1793316f86663e645642d8754/-34.9011,-56.1645,1561950061?units=si&lang=en\n",
      "{'currently': {'apparentTemperature': 5.74,\n",
      "               'cloudCover': 0.44,\n",
      "               'dewPoint': 3.26,\n",
      "               'humidity': 0.67,\n",
      "               'icon': 'partly-cloudy-night',\n",
      "               'ozone': 307,\n",
      "               'precipIntensity': 0,\n",
      "               'precipProbability': 0,\n",
      "               'pressure': 1019.59,\n",
      "               'summary': 'Partly Cloudy',\n",
      "               'temperature': 9.14,\n",
      "               'time': 1561950061,\n",
      "               'uvIndex': 0,\n",
      "               'visibility': 10.003,\n",
      "               'windBearing': 236,\n",
      "               'windGust': 11.13,\n",
      "               'windSpeed': 7.29},\n",
      " 'daily': {'data': [{'apparentTemperatureHigh': 6.63,\n",
      "                     'apparentTemperatureHighTime': 1562004000,\n",
      "                     'apparentTemperatureLow': 1.32,\n",
      "                     'apparentTemperatureLowTime': 1562032800,\n",
      "                     'apparentTemperatureMax': 6.63,\n",
      "                     'apparentTemperatureMaxTime': 1562004000,\n",
      "                     'apparentTemperatureMin': 1.32,\n",
      "                     'apparentTemperatureMinTime': 1562032800,\n",
      "                     'cloudCover': 0.22,\n",
      "                     'dewPoint': 1.78,\n",
      "                     'humidity': 0.65,\n",
      "                     'icon': 'partly-cloudy-day',\n",
      "                     'moonPhase': 0.97,\n",
      "                     'ozone': 315.5,\n",
      "                     'precipIntensity': 0.0015,\n",
      "                     'precipIntensityMax': 0.0072,\n",
      "                     'precipIntensityMaxTime': 1562004000,\n",
      "                     'precipProbability': 0.07,\n",
      "                     'precipType': 'rain',\n",
      "                     'pressure': 1017.48,\n",
      "                     'summary': 'Windy in the morning and overnight.',\n",
      "                     'sunriseTime': 1561978460,\n",
      "                     'sunsetTime': 1562013906,\n",
      "                     'temperatureHigh': 9.73,\n",
      "                     'temperatureHighTime': 1562004000,\n",
      "                     'temperatureLow': 4.86,\n",
      "                     'temperatureLowTime': 1562025600,\n",
      "                     'temperatureMax': 9.73,\n",
      "                     'temperatureMaxTime': 1562004000,\n",
      "                     'temperatureMin': 4.86,\n",
      "                     'temperatureMinTime': 1562025600,\n",
      "                     'time': 1561950000,\n",
      "                     'uvIndex': 2,\n",
      "                     'uvIndexTime': 1561996800,\n",
      "                     'visibility': 10.257,\n",
      "                     'windBearing': 268,\n",
      "                     'windGust': 14.41,\n",
      "                     'windGustTime': 1562032800,\n",
      "                     'windSpeed': 5.97}]},\n",
      " 'flags': {'nearest-station': 3.276,\n",
      "           'sources': ['cmc', 'gfs', 'icon', 'isd', 'madis'],\n",
      "           'units': 'si'},\n",
      " 'hourly': {'data': [{'apparentTemperature': 5.73,\n",
      "                      'cloudCover': 0.44,\n",
      "                      'dewPoint': 3.26,\n",
      "                      'humidity': 0.67,\n",
      "                      'icon': 'partly-cloudy-night',\n",
      "                      'ozone': 306.9,\n",
      "                      'precipIntensity': 0,\n",
      "                      'precipProbability': 0,\n",
      "                      'pressure': 1019.58,\n",
      "                      'summary': 'Partly Cloudy',\n",
      "                      'temperature': 9.13,\n",
      "                      'time': 1561950000,\n",
      "                      'uvIndex': 0,\n",
      "                      'visibility': 10.003,\n",
      "                      'windBearing': 236,\n",
      "                      'windGust': 11.13,\n",
      "                      'windSpeed': 7.32},\n",
      "                     {'apparentTemperature': 6.28,\n",
      "                      'cloudCover': 0.44,\n",
      "                      'dewPoint': 3.07,\n",
      "                      'humidity': 0.66,\n",
      "                      'icon': 'partly-cloudy-night',\n",
      "                      'ozone': 308.7,\n",
      "                      'precipIntensity': 0,\n",
      "                      'precipProbability': 0,\n",
      "                      'pressure': 1019.82,\n",
      "                      'summary': 'Partly Cloudy',\n",
      "                      'temperature': 9.18,\n",
      "                      'time': 1561953600,\n",
      "                      'uvIndex': 0,\n",
      "                      'visibility': 10.003,\n",
      "                      'windBearing': 236,\n",
      "                      'windGust': 11.28,\n",
      "                      'windSpeed': 5.8},\n",
      "                     {'apparentTemperature': 5.61,\n",
      "                      'cloudCover': 0.44,\n",
      "                      'dewPoint': 1.95,\n",
      "                      'humidity': 0.61,\n",
      "                      'icon': 'partly-cloudy-night',\n",
      "                      'ozone': 311.1,\n",
      "                      'precipIntensity': 0,\n",
      "                      'precipProbability': 0,\n",
      "                      'pressure': 1019.82,\n",
      "                      'summary': 'Partly Cloudy',\n",
      "                      'temperature': 9.08,\n",
      "                      'time': 1561957200,\n",
      "                      'uvIndex': 0,\n",
      "                      'visibility': 10.003,\n",
      "                      'windBearing': 228,\n",
      "                      'windGust': 11.4,\n",
      "                      'windSpeed': 7.51},\n",
      "                     {'apparentTemperature': 4.89,\n",
      "                      'cloudCover': 0.44,\n",
      "                      'dewPoint': 1.51,\n",
      "                      'humidity': 0.63,\n",
      "                      'icon': 'partly-cloudy-night',\n",
      "                      'ozone': 318.7,\n",
      "                      'precipIntensity': 0,\n",
      "                      'precipProbability': 0,\n",
      "                      'pressure': 1019.55,\n",
      "                      'summary': 'Partly Cloudy',\n",
      "                      'temperature': 8.14,\n",
      "                      'time': 1561960800,\n",
      "                      'uvIndex': 0,\n",
      "                      'visibility': 10.003,\n",
      "                      'windBearing': 236,\n",
      "                      'windGust': 11.66,\n",
      "                      'windSpeed': 5.97},\n",
      "                     {'apparentTemperature': 4.95,\n",
      "                      'cloudCover': 0.19,\n",
      "                      'dewPoint': 1.66,\n",
      "                      'humidity': 0.64,\n",
      "                      'icon': 'partly-cloudy-night',\n",
      "                      'ozone': 321.7,\n",
      "                      'precipIntensity': 0,\n",
      "                      'precipProbability': 0,\n",
      "                      'pressure': 1019.55,\n",
      "                      'summary': 'Partly Cloudy',\n",
      "                      'temperature': 8.17,\n",
      "                      'time': 1561964400,\n",
      "                      'uvIndex': 0,\n",
      "                      'visibility': 10.003,\n",
      "                      'windBearing': 235,\n",
      "                      'windGust': 11.32,\n",
      "                      'windSpeed': 5.93},\n",
      "                     {'apparentTemperature': 4.68,\n",
      "                      'cloudCover': 0.19,\n",
      "                      'dewPoint': 1.15,\n",
      "                      'humidity': 0.61,\n",
      "                      'icon': 'partly-cloudy-night',\n",
      "                      'ozone': 319.7,\n",
      "                      'precipIntensity': 0,\n",
      "                      'precipProbability': 0,\n",
      "                      'pressure': 1020.21,\n",
      "                      'summary': 'Partly Cloudy',\n",
      "                      'temperature': 8.22,\n",
      "                      'time': 1561968000,\n",
      "                      'uvIndex': 0,\n",
      "                      'visibility': 10.003,\n",
      "                      'windBearing': 237,\n",
      "                      'windGust': 10.53,\n",
      "                      'windSpeed': 6.9},\n",
      "                     {'apparentTemperature': 4.04,\n",
      "                      'cloudCover': 0.19,\n",
      "                      'dewPoint': 1.27,\n",
      "                      'humidity': 0.66,\n",
      "                      'icon': 'partly-cloudy-night',\n",
      "                      'ozone': 325.5,\n",
      "                      'precipIntensity': 0,\n",
      "                      'precipProbability': 0,\n",
      "                      'pressure': 1020.18,\n",
      "                      'summary': 'Partly Cloudy',\n",
      "                      'temperature': 7.24,\n",
      "                      'time': 1561971600,\n",
      "                      'uvIndex': 0,\n",
      "                      'visibility': 10.003,\n",
      "                      'windBearing': 243,\n",
      "                      'windGust': 10.12,\n",
      "                      'windSpeed': 5.23},\n",
      "                     {'apparentTemperature': 3.56,\n",
      "                      'cloudCover': 0.31,\n",
      "                      'dewPoint': 2.54,\n",
      "                      'humidity': 0.78,\n",
      "                      'icon': 'partly-cloudy-night',\n",
      "                      'ozone': 324.7,\n",
      "                      'precipIntensity': 0,\n",
      "                      'precipProbability': 0,\n",
      "                      'pressure': 1020.52,\n",
      "                      'summary': 'Partly Cloudy',\n",
      "                      'temperature': 6.11,\n",
      "                      'time': 1561975200,\n",
      "                      'uvIndex': 0,\n",
      "                      'visibility': 10.003,\n",
      "                      'windBearing': 249,\n",
      "                      'windGust': 9.39,\n",
      "                      'windSpeed': 3.41},\n",
      "                     {'apparentTemperature': 3.52,\n",
      "                      'cloudCover': 0.44,\n",
      "                      'dewPoint': 2.56,\n",
      "                      'humidity': 0.77,\n",
      "                      'icon': 'partly-cloudy-day',\n",
      "                      'ozone': 322.5,\n",
      "                      'precipIntensity': 0,\n",
      "                      'precipProbability': 0,\n",
      "                      'pressure': 1020.28,\n",
      "                      'summary': 'Partly Cloudy',\n",
      "                      'temperature': 6.29,\n",
      "                      'time': 1561978800,\n",
      "                      'uvIndex': 0,\n",
      "                      'visibility': 10.003,\n",
      "                      'windBearing': 250,\n",
      "                      'windGust': 8.6,\n",
      "                      'windSpeed': 3.87},\n",
      "                     {'apparentTemperature': 4.3,\n",
      "                      'cloudCover': 0.31,\n",
      "                      'dewPoint': 2.54,\n",
      "                      'humidity': 0.73,\n",
      "                      'icon': 'partly-cloudy-day',\n",
      "                      'ozone': 320.4,\n",
      "                      'precipIntensity': 0,\n",
      "                      'precipProbability': 0,\n",
      "                      'pressure': 1019.69,\n",
      "                      'summary': 'Partly Cloudy',\n",
      "                      'temperature': 7.11,\n",
      "                      'time': 1561982400,\n",
      "                      'uvIndex': 0,\n",
      "                      'visibility': 10.003,\n",
      "                      'windBearing': 254,\n",
      "                      'windGust': 8.77,\n",
      "                      'windSpeed': 4.3},\n",
      "                     {'apparentTemperature': 4.08,\n",
      "                      'cloudCover': 0.31,\n",
      "                      'dewPoint': 1.08,\n",
      "                      'humidity': 0.62,\n",
      "                      'icon': 'partly-cloudy-day',\n",
      "                      'ozone': 318.3,\n",
      "                      'precipIntensity': 0,\n",
      "                      'precipProbability': 0,\n",
      "                      'pressure': 1019.84,\n",
      "                      'summary': 'Partly Cloudy',\n",
      "                      'temperature': 7.96,\n",
      "                      'time': 1561986000,\n",
      "                      'uvIndex': 1,\n",
      "                      'visibility': 10.003,\n",
      "                      'windBearing': 251,\n",
      "                      'windGust': 8.8,\n",
      "                      'windSpeed': 7.78},\n",
      "                     {'apparentTemperature': 4.1,\n",
      "                      'cloudCover': 0.19,\n",
      "                      'dewPoint': 0.02,\n",
      "                      'humidity': 0.57,\n",
      "                      'icon': 'partly-cloudy-day',\n",
      "                      'ozone': 316,\n",
      "                      'precipIntensity': 0,\n",
      "                      'precipProbability': 0,\n",
      "                      'pressure': 1019.78,\n",
      "                      'summary': 'Partly Cloudy',\n",
      "                      'temperature': 8.06,\n",
      "                      'time': 1561989600,\n",
      "                      'uvIndex': 2,\n",
      "                      'visibility': 10.003,\n",
      "                      'windBearing': 275,\n",
      "                      'windGust': 9.04,\n",
      "                      'windSpeed': 8.16},\n",
      "                     {'apparentTemperature': 4.59,\n",
      "                      'cloudCover': 0.19,\n",
      "                      'dewPoint': 0.02,\n",
      "                      'humidity': 0.56,\n",
      "                      'icon': 'partly-cloudy-day',\n",
      "                      'ozone': 314.4,\n",
      "                      'precipIntensity': 0,\n",
      "                      'precipProbability': 0,\n",
      "                      'pressure': 1019.66,\n",
      "                      'summary': 'Partly Cloudy',\n",
      "                      'temperature': 8.25,\n",
      "                      'time': 1561993200,\n",
      "                      'uvIndex': 2,\n",
      "                      'visibility': 10.003,\n",
      "                      'windBearing': 264,\n",
      "                      'windGust': 9.29,\n",
      "                      'windSpeed': 7.34},\n",
      "                     {'apparentTemperature': 5.07,\n",
      "                      'cloudCover': 0.19,\n",
      "                      'dewPoint': 1.09,\n",
      "                      'humidity': 0.59,\n",
      "                      'icon': 'partly-cloudy-day',\n",
      "                      'ozone': 313.8,\n",
      "                      'precipIntensity': 0,\n",
      "                      'precipProbability': 0,\n",
      "                      'pressure': 1019.16,\n",
      "                      'summary': 'Partly Cloudy',\n",
      "                      'temperature': 8.63,\n",
      "                      'time': 1561996800,\n",
      "                      'uvIndex': 2,\n",
      "                      'visibility': 10.003,\n",
      "                      'windBearing': 263,\n",
      "                      'windGust': 9.52,\n",
      "                      'windSpeed': 7.33},\n",
      "                     {'apparentTemperature': 6.45,\n",
      "                      'cloudCover': 0.19,\n",
      "                      'dewPoint': 1.69,\n",
      "                      'humidity': 0.58,\n",
      "                      'icon': 'partly-cloudy-day',\n",
      "                      'ozone': 313.8,\n",
      "                      'precipIntensity': 0.0051,\n",
      "                      'precipProbability': 0.04,\n",
      "                      'precipType': 'rain',\n",
      "                      'pressure': 1018.36,\n",
      "                      'summary': 'Partly Cloudy',\n",
      "                      'temperature': 9.59,\n",
      "                      'time': 1562000400,\n",
      "                      'uvIndex': 2,\n",
      "                      'visibility': 10.003,\n",
      "                      'windBearing': 284,\n",
      "                      'windGust': 9.77,\n",
      "                      'windSpeed': 6.85},\n",
      "                     {'apparentTemperature': 6.63,\n",
      "                      'cloudCover': 0.19,\n",
      "                      'dewPoint': 1.71,\n",
      "                      'humidity': 0.57,\n",
      "                      'icon': 'partly-cloudy-day',\n",
      "                      'ozone': 318.6,\n",
      "                      'precipIntensity': 0.0072,\n",
      "                      'precipProbability': 0.04,\n",
      "                      'precipType': 'rain',\n",
      "                      'pressure': 1017.13,\n",
      "                      'summary': 'Partly Cloudy',\n",
      "                      'temperature': 9.73,\n",
      "                      'time': 1562004000,\n",
      "                      'uvIndex': 1,\n",
      "                      'visibility': 10.003,\n",
      "                      'windBearing': 280,\n",
      "                      'windGust': 9.54,\n",
      "                      'windSpeed': 6.85},\n",
      "                     {'apparentTemperature': 6.39,\n",
      "                      'cloudCover': 0.19,\n",
      "                      'dewPoint': 1.25,\n",
      "                      'humidity': 0.56,\n",
      "                      'icon': 'partly-cloudy-day',\n",
      "                      'ozone': 318.7,\n",
      "                      'precipIntensity': 0,\n",
      "                      'precipProbability': 0,\n",
      "                      'pressure': 1016.28,\n",
      "                      'summary': 'Partly Cloudy',\n",
      "                      'temperature': 9.57,\n",
      "                      'time': 1562007600,\n",
      "                      'uvIndex': 1,\n",
      "                      'visibility': 10.003,\n",
      "                      'windBearing': 291,\n",
      "                      'windGust': 9.37,\n",
      "                      'windSpeed': 6.97},\n",
      "                     {'apparentTemperature': 6.4,\n",
      "                      'cloudCover': 0.19,\n",
      "                      'dewPoint': 1.74,\n",
      "                      'humidity': 0.58,\n",
      "                      'icon': 'partly-cloudy-day',\n",
      "                      'ozone': 318.1,\n",
      "                      'precipIntensity': 0,\n",
      "                      'precipProbability': 0,\n",
      "                      'pressure': 1015,\n",
      "                      'summary': 'Partly Cloudy',\n",
      "                      'temperature': 9.49,\n",
      "                      'time': 1562011200,\n",
      "                      'uvIndex': 0,\n",
      "                      'visibility': 10.003,\n",
      "                      'windBearing': 291,\n",
      "                      'windGust': 9.13,\n",
      "                      'windSpeed': 6.61},\n",
      "                     {'apparentTemperature': 5.86,\n",
      "                      'cloudCover': 0.19,\n",
      "                      'dewPoint': 1.29,\n",
      "                      'humidity': 0.61,\n",
      "                      'icon': 'partly-cloudy-night',\n",
      "                      'ozone': 316.8,\n",
      "                      'precipIntensity': 0,\n",
      "                      'precipProbability': 0,\n",
      "                      'pressure': 1014.01,\n",
      "                      'summary': 'Partly Cloudy',\n",
      "                      'temperature': 8.34,\n",
      "                      'time': 1562014800,\n",
      "                      'uvIndex': 0,\n",
      "                      'visibility': 10.003,\n",
      "                      'windBearing': 302,\n",
      "                      'windGust': 9.14,\n",
      "                      'windSpeed': 4.2},\n",
      "                     {'apparentTemperature': 6.23,\n",
      "                      'cloudCover': 0,\n",
      "                      'dewPoint': 1.61,\n",
      "                      'humidity': 0.64,\n",
      "                      'icon': 'clear-night',\n",
      "                      'ozone': 314.6,\n",
      "                      'precipIntensity': 0,\n",
      "                      'precipProbability': 0,\n",
      "                      'pressure': 1013.36,\n",
      "                      'summary': 'Clear',\n",
      "                      'temperature': 8.1,\n",
      "                      'time': 1562018400,\n",
      "                      'uvIndex': 0,\n",
      "                      'visibility': 10.003,\n",
      "                      'windBearing': 301,\n",
      "                      'windGust': 9.55,\n",
      "                      'windSpeed': 3},\n",
      "                     {'apparentTemperature': 5.67,\n",
      "                      'cloudCover': 0,\n",
      "                      'dewPoint': 2.22,\n",
      "                      'humidity': 0.62,\n",
      "                      'icon': 'clear-night',\n",
      "                      'ozone': 311.7,\n",
      "                      'precipIntensity': 0,\n",
      "                      'precipProbability': 0,\n",
      "                      'pressure': 1013.28,\n",
      "                      'summary': 'Clear',\n",
      "                      'temperature': 9.06,\n",
      "                      'time': 1562022000,\n",
      "                      'uvIndex': 0,\n",
      "                      'visibility': 16.093,\n",
      "                      'windBearing': 306,\n",
      "                      'windGust': 10.23,\n",
      "                      'windSpeed': 7.18},\n",
      "                     {'apparentTemperature': 2.88,\n",
      "                      'cloudCover': 0,\n",
      "                      'dewPoint': 1.99,\n",
      "                      'humidity': 0.82,\n",
      "                      'icon': 'clear-night',\n",
      "                      'ozone': 308.9,\n",
      "                      'precipIntensity': 0,\n",
      "                      'precipProbability': 0,\n",
      "                      'pressure': 1012.8,\n",
      "                      'summary': 'Clear',\n",
      "                      'temperature': 4.86,\n",
      "                      'time': 1562025600,\n",
      "                      'uvIndex': 0,\n",
      "                      'visibility': 10.003,\n",
      "                      'windBearing': 338,\n",
      "                      'windGust': 11.12,\n",
      "                      'windSpeed': 2.33},\n",
      "                     {'apparentTemperature': 1.76,\n",
      "                      'cloudCover': 0,\n",
      "                      'dewPoint': 2.22,\n",
      "                      'humidity': 0.78,\n",
      "                      'icon': 'clear-night',\n",
      "                      'ozone': 305.6,\n",
      "                      'precipIntensity': 0,\n",
      "                      'precipProbability': 0,\n",
      "                      'pressure': 1011.58,\n",
      "                      'summary': 'Clear',\n",
      "                      'temperature': 5.69,\n",
      "                      'time': 1562029200,\n",
      "                      'uvIndex': 0,\n",
      "                      'visibility': 10.003,\n",
      "                      'windBearing': 344,\n",
      "                      'windGust': 12.76,\n",
      "                      'windSpeed': 6.01},\n",
      "                     {'apparentTemperature': 1.32,\n",
      "                      'cloudCover': 0,\n",
      "                      'dewPoint': 3.19,\n",
      "                      'humidity': 0.85,\n",
      "                      'icon': 'clear-night',\n",
      "                      'ozone': 303.2,\n",
      "                      'precipIntensity': 0,\n",
      "                      'precipProbability': 0,\n",
      "                      'pressure': 1010.04,\n",
      "                      'summary': 'Clear',\n",
      "                      'temperature': 5.5,\n",
      "                      'time': 1562032800,\n",
      "                      'uvIndex': 0,\n",
      "                      'visibility': 10.003,\n",
      "                      'windBearing': 343,\n",
      "                      'windGust': 14.41,\n",
      "                      'windSpeed': 6.54}],\n",
      "            'icon': 'partly-cloudy-day',\n",
      "            'summary': 'Partly cloudy throughout the day.'},\n",
      " 'latitude': -34.9011,\n",
      " 'longitude': -56.1645,\n",
      " 'offset': -3,\n",
      " 'timezone': 'America/Montevideo'}\n"
     ]
    }
   ],
   "source": [
    "url = \"https://api.darksky.net/forecast/{}/{},{},{}?units={}&lang={}\".format(api_key, latitude, longitude, asctime, units, lang)\n",
    "print(url)\n",
    "r = requests.get(url)\n",
    "data = json.loads(r.text)\n",
    "pprint(data)"
   ]
  },
  {
   "cell_type": "markdown",
   "metadata": {},
   "source": [
    "# print metadata by day and hour"
   ]
  },
  {
   "cell_type": "code",
   "execution_count": 126,
   "metadata": {},
   "outputs": [
    {
     "name": "stdout",
     "output_type": "stream",
     "text": [
      "{'data': [{'apparentTemperatureHigh': 6.79,\n",
      "           'apparentTemperatureHighTime': 1562004000,\n",
      "           'apparentTemperatureLow': 1.3,\n",
      "           'apparentTemperatureLowTime': 1562032800,\n",
      "           'apparentTemperatureMax': 6.79,\n",
      "           'apparentTemperatureMaxTime': 1562004000,\n",
      "           'apparentTemperatureMin': 1.3,\n",
      "           'apparentTemperatureMinTime': 1562032800,\n",
      "           'cloudCover': 0.21,\n",
      "           'dewPoint': 1.82,\n",
      "           'humidity': 0.66,\n",
      "           'icon': 'partly-cloudy-day',\n",
      "           'moonPhase': 0.97,\n",
      "           'ozone': 314.9,\n",
      "           'precipIntensity': 0.0015,\n",
      "           'precipIntensityMax': 0.0072,\n",
      "           'precipIntensityMaxTime': 1562004000,\n",
      "           'precipProbability': 0.07,\n",
      "           'precipType': 'rain',\n",
      "           'pressure': 1016.92,\n",
      "           'summary': 'Windy in the morning and overnight.',\n",
      "           'sunriseTime': 1561978460,\n",
      "           'sunsetTime': 1562013906,\n",
      "           'temperatureHigh': 9.85,\n",
      "           'temperatureHighTime': 1562004000,\n",
      "           'temperatureLow': 4.73,\n",
      "           'temperatureLowTime': 1562025600,\n",
      "           'temperatureMax': 9.85,\n",
      "           'temperatureMaxTime': 1562004000,\n",
      "           'temperatureMin': 4.73,\n",
      "           'temperatureMinTime': 1562025600,\n",
      "           'time': 1561950000,\n",
      "           'uvIndex': 2,\n",
      "           'uvIndexTime': 1561996800,\n",
      "           'visibility': 10.247,\n",
      "           'windBearing': 272,\n",
      "           'windGust': 15.68,\n",
      "           'windGustTime': 1562036400,\n",
      "           'windSpeed': 6.02}]}\n"
     ]
    }
   ],
   "source": [
    "pprint(data['daily'])"
   ]
  },
  {
   "cell_type": "code",
   "execution_count": 123,
   "metadata": {},
   "outputs": [
    {
     "name": "stdout",
     "output_type": "stream",
     "text": [
      "{'apparentTemperature': 5.67,\n",
      " 'cloudCover': 0.44,\n",
      " 'dewPoint': 3.06,\n",
      " 'humidity': 0.66,\n",
      " 'icon': 'partly-cloudy-night',\n",
      " 'ozone': 306.9,\n",
      " 'precipIntensity': 0,\n",
      " 'precipProbability': 0,\n",
      " 'pressure': 1019.13,\n",
      " 'summary': 'Partly Cloudy',\n",
      " 'temperature': 9.08,\n",
      " 'time': 1561950000,\n",
      " 'uvIndex': 0,\n",
      " 'visibility': 10.003,\n",
      " 'windBearing': 236,\n",
      " 'windGust': 11.13,\n",
      " 'windSpeed': 7.32}\n"
     ]
    }
   ],
   "source": [
    "pprint(data['hourly']['data'][0])"
   ]
  },
  {
   "cell_type": "code",
   "execution_count": 131,
   "metadata": {},
   "outputs": [
    {
     "name": "stdout",
     "output_type": "stream",
     "text": [
      "partly-cloudy-day\n",
      "Partly cloudy throughout the day.\n"
     ]
    }
   ],
   "source": [
    "print(data['hourly']['icon'], '\\n', data['hourly']['summary'], sep='')"
   ]
  },
  {
   "cell_type": "code",
   "execution_count": 120,
   "metadata": {},
   "outputs": [
    {
     "data": {
      "text/plain": [
       "'Mon Jul  1 23:00:00 2019'"
      ]
     },
     "execution_count": 120,
     "metadata": {},
     "output_type": "execute_result"
    }
   ],
   "source": [
    "ctime(1562032800)"
   ]
  },
  {
   "cell_type": "markdown",
   "metadata": {},
   "source": [
    "# get data\n",
    "The first 1,000 API requests you make every day are free of charge.\n",
    "* https://darksky.net/dev/docs#time-machine-request"
   ]
  },
  {
   "cell_type": "code",
   "execution_count": 8,
   "metadata": {},
   "outputs": [],
   "source": [
    "def get_weather(api_key, city, time, units, lang):\n",
    "    latitude = city[0]\n",
    "    longitude = city[0]\n",
    "    url = \"https://api.darksky.net/forecast/{}/{},{},{}?units={}&lang={}\".format(api_key, latitude, longitude, time, units, lang)\n",
    "    r = requests.get(url)\n",
    "    data = json.loads(r.text)\n",
    "    return data"
   ]
  },
  {
   "cell_type": "markdown",
   "metadata": {},
   "source": [
    "# define data collectors"
   ]
  },
  {
   "cell_type": "code",
   "execution_count": 116,
   "metadata": {},
   "outputs": [],
   "source": [
    "def save_json(city):\n",
    "    file_name = os.path.join(datapath,'{}-weather.csv'.format(city))\n",
    "    city_geo = eval(city+\"_geo\")\n",
    "    \n",
    "    json_list = []\n",
    "    for i in range(days_range):\n",
    "        print(\"RETRIEVING FROM DAY: \",i)\n",
    "        if i % 28 == 0 or i == days_range-1: clear_output()\n",
    "        time_iter = int(asctime)+i*daily_seconds\n",
    "        if int(time_iter) > int(end_time): break\n",
    "        day_weather = get_weather(api_key, city_geo, time_iter, units, lang)\n",
    "        json_list.append(day_weather)\n",
    "        #if i == 1: break\n",
    "    file_path = os.path.join(datapath,'{}-weather.json'.format(city))\n",
    "    json.dump(json_list, open(file_path, 'w'))"
   ]
  },
  {
   "cell_type": "code",
   "execution_count": null,
   "metadata": {},
   "outputs": [],
   "source": [
    "test2 = "
   ]
  },
  {
   "cell_type": "code",
   "execution_count": 112,
   "metadata": {},
   "outputs": [],
   "source": [
    "def save_csv(city):\n",
    "    file_name = os.path.join(datapath,'{}-weather.csv'.format(city))\n",
    "    f = csv.writer(open(file_name, \"w\"),lineterminator = '\\n')\n",
    "    f.writerow([\"time\", \"cloudCover\", \"humidity\", \"precipIntensity\", \"windSpeed\"])\n",
    "    \n",
    "    file_name_daily = os.path.join(datapath,'{}-daily_weather.csv'.format(city))\n",
    "    f_daily = csv.writer(open(file_name_daily, \"w\"),lineterminator = '\\n')\n",
    "    f_daily.writerow([\"time\", \"cloudCover\", \"humidity\", \"precipIntensity\", \"windSpeed\"])\n",
    "    \n",
    "    json_data = json.load(open(os.path.join(datapath,'{}-weather.json'.format(city)), 'r'))\n",
    "    i=0\n",
    "    for day_weather in json_data:\n",
    "        time_iter = int(asctime)+i*daily_seconds\n",
    "        if int(time_iter) > int(end_time): break\n",
    "            \n",
    "        date_time = time.strftime('%Y-%m-%d %H:%M:%S', time.localtime(day_weather['daily']['data'][0][\"time\"]))\n",
    "        f_daily.writerow(\n",
    "            [date_time,\n",
    "            day_weather['daily']['data'][0][\"cloudCover\"],\n",
    "            day_weather['daily']['data'][0][\"humidity\"],\n",
    "            day_weather['daily']['data'][0][\"precipIntensity\"],\n",
    "            day_weather['daily']['data'][0][\"windSpeed\"],\n",
    "            ])        \n",
    "            \n",
    "        hours = day_weather['hourly']['data']        \n",
    "        for key in hours:\n",
    "            if key[\"time\"] < int(asctime): continue\n",
    "            date_time = time.strftime('%Y-%m-%d %H:%M:%S', time.localtime(key[\"time\"]))\n",
    "            f.writerow(\n",
    "                [date_time,\n",
    "                key[\"cloudCover\"],\n",
    "                key[\"humidity\"],\n",
    "                key[\"precipIntensity\"],\n",
    "                key[\"windSpeed\"],\n",
    "                ])\n",
    "        i+=1"
   ]
  },
  {
   "cell_type": "code",
   "execution_count": 72,
   "metadata": {},
   "outputs": [
    {
     "data": {
      "text/plain": [
       "'1566874800'"
      ]
     },
     "execution_count": 72,
     "metadata": {},
     "output_type": "execute_result"
    }
   ],
   "source": [
    "time_tuple = (2019, 8, 27, 0, 0, 0, 0, 0, 0)\n",
    "end_time = str(int(time.mktime(time_tuple)))\n",
    "end_time"
   ]
  },
  {
   "cell_type": "code",
   "execution_count": 73,
   "metadata": {},
   "outputs": [],
   "source": [
    "time_tuple = (2018, 10, 1, 0, 0, 0, 0, 0, 0)\n",
    "asctime = str(int(time.mktime(time_tuple))) #\"1538362800\"\n",
    "units = \"si\"\n",
    "lang = \"en\"\n",
    "daily_seconds = 60*60*24 # = number of seconds in a day\n",
    "days_range = int((int(end_time)-int(asctime))/daily_seconds)\n",
    "#days_in_month = days_in_month-1"
   ]
  },
  {
   "cell_type": "code",
   "execution_count": 74,
   "metadata": {},
   "outputs": [
    {
     "data": {
      "text/plain": [
       "330"
      ]
     },
     "execution_count": 74,
     "metadata": {},
     "output_type": "execute_result"
    }
   ],
   "source": [
    "days_range"
   ]
  },
  {
   "cell_type": "markdown",
   "metadata": {},
   "source": [
    "### save json"
   ]
  },
  {
   "cell_type": "raw",
   "metadata": {},
   "source": [
    "save_json(\"montevideo\")"
   ]
  },
  {
   "cell_type": "raw",
   "metadata": {},
   "source": [
    "save_json(\"miraflores\")"
   ]
  },
  {
   "cell_type": "code",
   "execution_count": 117,
   "metadata": {},
   "outputs": [],
   "source": [
    "save_json(\"rj_meier\")"
   ]
  },
  {
   "cell_type": "code",
   "execution_count": 119,
   "metadata": {},
   "outputs": [],
   "source": [
    "save_json(\"rj_lagoa\")"
   ]
  },
  {
   "cell_type": "code",
   "execution_count": 120,
   "metadata": {},
   "outputs": [],
   "source": [
    "save_json(\"rj_barra\")"
   ]
  },
  {
   "cell_type": "markdown",
   "metadata": {},
   "source": [
    "### analyse json"
   ]
  },
  {
   "cell_type": "code",
   "execution_count": 79,
   "metadata": {},
   "outputs": [],
   "source": [
    "test = json.load(open(os.path.join(datapath,'{}-weather.json'.format(\"montevideo\")), 'r'))\n",
    "test[0]"
   ]
  },
  {
   "cell_type": "code",
   "execution_count": null,
   "metadata": {},
   "outputs": [],
   "source": [
    "test[1]"
   ]
  },
  {
   "cell_type": "markdown",
   "metadata": {},
   "source": [
    "### save csv"
   ]
  },
  {
   "cell_type": "code",
   "execution_count": 113,
   "metadata": {},
   "outputs": [],
   "source": [
    "save_csv(\"montevideo\")"
   ]
  },
  {
   "cell_type": "code",
   "execution_count": 114,
   "metadata": {},
   "outputs": [],
   "source": [
    "save_csv(\"miraflores\")"
   ]
  },
  {
   "cell_type": "code",
   "execution_count": 118,
   "metadata": {},
   "outputs": [],
   "source": [
    "save_csv(\"rj_meier\")"
   ]
  },
  {
   "cell_type": "code",
   "execution_count": 121,
   "metadata": {},
   "outputs": [],
   "source": [
    "save_csv(\"rj_lagoa\")"
   ]
  },
  {
   "cell_type": "code",
   "execution_count": 122,
   "metadata": {},
   "outputs": [],
   "source": [
    "save_csv(\"rj_barra\")"
   ]
  },
  {
   "cell_type": "markdown",
   "metadata": {},
   "source": [
    "# get average from a city\n",
    "cities: Rio de Janeiro"
   ]
  },
  {
   "cell_type": "code",
   "execution_count": 123,
   "metadata": {},
   "outputs": [],
   "source": [
    "def get_avg(column):\n",
    "    dvalue = 0\n",
    "    for k, v in rj_dict.items():\n",
    "        dvalue = (float(v[i][column]) + dvalue)\n",
    "    return dvalue/2"
   ]
  },
  {
   "cell_type": "code",
   "execution_count": 129,
   "metadata": {},
   "outputs": [],
   "source": [
    "rj_dict = {}\n",
    "for region in ['rj_barra-weather.csv','rj_lagoa-weather.csv', 'rj_meier-weather.csv']:\n",
    "    file = os.path.join(datapath,region)\n",
    "    reader = csv.reader(open(file, 'r'))\n",
    "    key_name = region[:-12]\n",
    "    rj_dict[key_name] = list(reader)[1:]"
   ]
  },
  {
   "cell_type": "code",
   "execution_count": 123,
   "metadata": {},
   "outputs": [],
   "source": [
    "def get_avg_json(column):\n",
    "    dvalue = 0\n",
    "    for k, v in rj_dict.items():\n",
    "        dvalue = (float(v[i][column]) + dvalue)\n",
    "    return dvalue/2"
   ]
  },
  {
   "cell_type": "code",
   "execution_count": 148,
   "metadata": {},
   "outputs": [],
   "source": [
    "rj_dict_from_json = {}\n",
    "for region in ['rj_barra-weather.json','rj_lagoa-weather.json', 'rj_meier-weather.json']:\n",
    "    file = os.path.join(datapath,region)\n",
    "    reader = json.load(open(file, 'r'))\n",
    "    key_name = region[:-13]\n",
    "    rj_dict_from_json[key_name] = list(reader)"
   ]
  },
  {
   "cell_type": "code",
   "execution_count": null,
   "metadata": {},
   "outputs": [],
   "source": [
    "rj_dict_from_json['rj_barra'][0]"
   ]
  },
  {
   "cell_type": "code",
   "execution_count": 125,
   "metadata": {},
   "outputs": [
    {
     "data": {
      "text/plain": [
       "['2019-08-26 22:00:00', '0.38', '0.78', '0.9387', '5.19']"
      ]
     },
     "execution_count": 125,
     "metadata": {},
     "output_type": "execute_result"
    }
   ],
   "source": [
    "rj_dict['rj_barra'][-1]"
   ]
  },
  {
   "cell_type": "markdown",
   "metadata": {},
   "source": [
    "if you need to ge average using csvs"
   ]
  },
  {
   "cell_type": "code",
   "execution_count": null,
   "metadata": {},
   "outputs": [],
   "source": [
    "city = \"rio_de_janeiro\"\n",
    "\n",
    "file_name = os.path.join(datapath,'{}-weather.csv'.format(city))\n",
    "f = csv.writer(open(file_name, \"w\"),lineterminator = '\\n')\n",
    "f.writerow([\"time\", \"cloudCover\", \"humidity\", \"precipIntensity\", \"windSpeed\"])\n",
    "    \n",
    "using 1 key as reference to get len and time\n",
    "for i in range(len(rj_dict['rj_barra'])):\n",
    "    date_time = rj_dict['rj_barra'][i][0]\n",
    "    data_cloud = get_avg(1)\n",
    "    data_hum = get_avg(2)\n",
    "    data_prec = get_avg(3)\n",
    "    f.writerow(\n",
    "        [date_time,\n",
    "        data_cloud,\n",
    "        data_hum,\n",
    "        data_prec,\n",
    "        ])"
   ]
  },
  {
   "cell_type": "markdown",
   "metadata": {},
   "source": [
    "if you need to ge average using jsons"
   ]
  },
  {
   "cell_type": "code",
   "execution_count": 128,
   "metadata": {},
   "outputs": [],
   "source": [
    "city = \"rio_de_janeiro\"\n",
    "\n",
    "file_name = os.path.join(datapath,'{}-weather.csv'.format(city))\n",
    "f = csv.writer(open(file_name, \"w\"),lineterminator = '\\n')\n",
    "f.writerow([\"time\", \"cloudCover\", \"humidity\", \"precipIntensity\", \"windSpeed\"])\n",
    "\n",
    "file_name_daily = os.path.join(datapath,'{}-daily_weather.csv'.format(city))\n",
    "f_daily = csv.writer(open(file_name_daily, \"w\"),lineterminator = '\\n')\n",
    "f_daily.writerow([\"time\", \"cloudCover\", \"humidity\", \"precipIntensity\", \"windSpeed\"])\n",
    "    \n",
    "json_data = json.load(open(os.path.join(datapath,'{}-weather.json'.format(city)), 'r'))\n",
    "i=0\n",
    "for day_weather in json_data:\n",
    "    time_iter = int(asctime)+i*daily_seconds\n",
    "    if int(time_iter) > int(end_time): break\n",
    "        \n",
    "    date_time = time.strftime('%Y-%m-%d %H:%M:%S', time.localtime(day_weather['daily']['data'][0][\"time\"]))\n",
    "    f_daily.writerow(\n",
    "        [date_time,\n",
    "        day_weather['daily']['data'][0][\"cloudCover\"],\n",
    "        day_weather['daily']['data'][0][\"humidity\"],\n",
    "        day_weather['daily']['data'][0][\"precipIntensity\"],\n",
    "        day_weather['daily']['data'][0][\"windSpeed\"],\n",
    "        ])        \n",
    "        \n",
    "    hours = day_weather['hourly']['data']        \n",
    "    for key in hours:\n",
    "        if key[\"time\"] < int(asctime): continue\n",
    "        date_time = time.strftime('%Y-%m-%d %H:%M:%S', time.localtime(key[\"time\"]))\n",
    "        f.writerow(\n",
    "            [date_time,\n",
    "            key[\"cloudCover\"],\n",
    "            key[\"humidity\"],\n",
    "            key[\"precipIntensity\"],\n",
    "            key[\"windSpeed\"],\n",
    "            ])\n",
    "    i+=1"
   ]
  },
  {
   "cell_type": "code",
   "execution_count": null,
   "metadata": {},
   "outputs": [],
   "source": []
  },
  {
   "cell_type": "code",
   "execution_count": null,
   "metadata": {},
   "outputs": [],
   "source": [
    "def save_csv(city):\n",
    "    file_name = os.path.join(datapath,'{}-weather.csv'.format(city))\n",
    "    f = csv.writer(open(file_name, \"w\"),lineterminator = '\\n')\n",
    "    f.writerow([\"time\", \"cloudCover\", \"humidity\", \"precipIntensity\", \"windSpeed\"])\n",
    "    \n",
    "    file_name_daily = os.path.join(datapath,'{}-daily_weather.csv'.format(city))\n",
    "    f_daily = csv.writer(open(file_name_daily, \"w\"),lineterminator = '\\n')\n",
    "    f_daily.writerow([\"time\", \"cloudCover\", \"humidity\", \"precipIntensity\", \"windSpeed\"])\n",
    "    \n",
    "    json_data = json.load(open(os.path.join(datapath,'{}-weather.json'.format(city)), 'r'))\n",
    "    i=0\n",
    "    for day_weather in json_data:\n",
    "        time_iter = int(asctime)+i*daily_seconds\n",
    "        if int(time_iter) > int(end_time): break\n",
    "            \n",
    "        date_time = time.strftime('%Y-%m-%d %H:%M:%S', time.localtime(day_weather['daily']['data'][0][\"time\"]))\n",
    "        f_daily.writerow(\n",
    "            [date_time,\n",
    "            day_weather['daily']['data'][0][\"cloudCover\"],\n",
    "            day_weather['daily']['data'][0][\"humidity\"],\n",
    "            day_weather['daily']['data'][0][\"precipIntensity\"],\n",
    "            day_weather['daily']['data'][0][\"windSpeed\"],\n",
    "            ])        \n",
    "            \n",
    "        hours = day_weather['hourly']['data']        \n",
    "        for key in hours:\n",
    "            if key[\"time\"] < int(asctime): continue\n",
    "            date_time = time.strftime('%Y-%m-%d %H:%M:%S', time.localtime(key[\"time\"]))\n",
    "            f.writerow(\n",
    "                [date_time,\n",
    "                key[\"cloudCover\"],\n",
    "                key[\"humidity\"],\n",
    "                key[\"precipIntensity\"],\n",
    "                key[\"windSpeed\"],\n",
    "                ])\n",
    "        i+=1"
   ]
  },
  {
   "cell_type": "markdown",
   "metadata": {},
   "source": [
    "# compare day to hours data"
   ]
  },
  {
   "cell_type": "code",
   "execution_count": 10,
   "metadata": {},
   "outputs": [
    {
     "data": {
      "text/plain": [
       "'1567479600'"
      ]
     },
     "execution_count": 10,
     "metadata": {},
     "output_type": "execute_result"
    }
   ],
   "source": [
    "time_tuple = (2019, 4, 9, 0, 0, 0, 0, 0, 0)\n",
    "end_time = str(int(time.mktime(time_tuple)))\n",
    "end_time"
   ]
  },
  {
   "cell_type": "code",
   "execution_count": 12,
   "metadata": {},
   "outputs": [],
   "source": [
    "time_tuple = (2018, 4, 8, 0, 0, 0, 0, 0, 0)\n",
    "asctime = str(int(time.mktime(time_tuple))) #\"1538362800\"\n",
    "units = \"si\"\n",
    "lang = \"en\"\n",
    "daily_seconds = 60*60*24 # = number of seconds in a day\n",
    "days_range = int((int(end_time)-int(asctime))/daily_seconds)\n",
    "#days_in_month = days_in_month-1"
   ]
  },
  {
   "cell_type": "code",
   "execution_count": 33,
   "metadata": {},
   "outputs": [],
   "source": [
    "city = \"rj_lagoa\"\n",
    "city_geo = eval(city+\"_geo\")\n",
    "\n",
    "time_data = []\n",
    "var_data = []\n",
    "time_iter = int(asctime)\n",
    "day_weather = get_weather(api_key, city_geo, time_iter, units, lang)\n",
    "hours = day_weather['hourly']['data']\n",
    "for key in hours:\n",
    "    if key[\"time\"] < int(asctime): continue\n",
    "    date_time = time.strftime('%Y-%m-%d %H:%M:%S', time.localtime(key[\"time\"]))\n",
    "    time_data.append(date_time)\n",
    "    var_data.append(key[\"precipIntensity\"])"
   ]
  },
  {
   "cell_type": "code",
   "execution_count": 49,
   "metadata": {},
   "outputs": [
    {
     "name": "stdout",
     "output_type": "stream",
     "text": [
      "Average from each hour of day: 2.687826086956522\n",
      "daily data: 0.0005\n"
     ]
    }
   ],
   "source": [
    "temp = reduce(lambda x, y: x + y, var_data) / len(var_data)\n",
    "print('Average from each hour of day:', temp)\n",
    "\n",
    "temp = data['daily']['data'][0]['precipIntensity']\n",
    "print('daily data:', temp)"
   ]
  },
  {
   "cell_type": "code",
   "execution_count": 48,
   "metadata": {},
   "outputs": [
    {
     "name": "stdout",
     "output_type": "stream",
     "text": [
      "daily data: 0.0005\n"
     ]
    }
   ],
   "source": []
  },
  {
   "cell_type": "code",
   "execution_count": 51,
   "metadata": {},
   "outputs": [
    {
     "data": {
      "text/plain": [
       "{'data': [{'time': 1560481200,\n",
       "   'summary': 'Humid and partly cloudy throughout the day.',\n",
       "   'icon': 'partly-cloudy-day',\n",
       "   'sunriseTime': 1560504749,\n",
       "   'sunsetTime': 1560543390,\n",
       "   'moonPhase': 0.42,\n",
       "   'precipIntensity': 0.0005,\n",
       "   'precipIntensityMax': 0.003,\n",
       "   'precipIntensityMaxTime': 1560502800,\n",
       "   'precipProbability': 0.05,\n",
       "   'precipType': 'rain',\n",
       "   'temperatureHigh': 28.99,\n",
       "   'temperatureHighTime': 1560524400,\n",
       "   'temperatureLow': 21.64,\n",
       "   'temperatureLowTime': 1560592800,\n",
       "   'apparentTemperatureHigh': 31.31,\n",
       "   'apparentTemperatureHighTime': 1560524400,\n",
       "   'apparentTemperatureLow': 22.21,\n",
       "   'apparentTemperatureLowTime': 1560592800,\n",
       "   'dewPoint': 22.03,\n",
       "   'humidity': 0.83,\n",
       "   'pressure': 1021.65,\n",
       "   'windSpeed': 2.36,\n",
       "   'windGust': 4.94,\n",
       "   'windGustTime': 1560535200,\n",
       "   'windBearing': 64,\n",
       "   'cloudCover': 0.35,\n",
       "   'uvIndex': 6,\n",
       "   'uvIndexTime': 1560524400,\n",
       "   'visibility': 10.439,\n",
       "   'ozone': 241.3,\n",
       "   'temperatureMin': 22.06,\n",
       "   'temperatureMinTime': 1560506400,\n",
       "   'temperatureMax': 28.99,\n",
       "   'temperatureMaxTime': 1560524400,\n",
       "   'apparentTemperatureMin': 22.62,\n",
       "   'apparentTemperatureMinTime': 1560506400,\n",
       "   'apparentTemperatureMax': 31.31,\n",
       "   'apparentTemperatureMaxTime': 1560524400}]}"
      ]
     },
     "execution_count": 51,
     "metadata": {},
     "output_type": "execute_result"
    }
   ],
   "source": [
    "data['daily']"
   ]
  },
  {
   "cell_type": "markdown",
   "metadata": {},
   "source": [
    "# tests"
   ]
  },
  {
   "cell_type": "markdown",
   "metadata": {},
   "source": [
    "### testing time"
   ]
  },
  {
   "cell_type": "markdown",
   "metadata": {},
   "source": [
    "https://realpython.com/python-time-module/#converting-a-local-time-object-to-seconds"
   ]
  },
  {
   "cell_type": "raw",
   "metadata": {},
   "source": [
    "time.time()"
   ]
  },
  {
   "cell_type": "raw",
   "metadata": {},
   "source": [
    "print (time.gmtime()) "
   ]
  },
  {
   "cell_type": "code",
   "execution_count": 16,
   "metadata": {},
   "outputs": [
    {
     "data": {
      "text/plain": [
       "1538362800"
      ]
     },
     "execution_count": 16,
     "metadata": {},
     "output_type": "execute_result"
    }
   ],
   "source": [
    "time_tuple = (2018, 10, 1, 0, 0, 0, 0, 0, 0)\n",
    "int(time.mktime(time_tuple))"
   ]
  },
  {
   "cell_type": "code",
   "execution_count": 17,
   "metadata": {},
   "outputs": [
    {
     "data": {
      "text/plain": [
       "1566874800"
      ]
     },
     "execution_count": 17,
     "metadata": {},
     "output_type": "execute_result"
    }
   ],
   "source": [
    "time_tuple = (2019, 8, 27, 0, 0, 0, 0, 0, 0)\n",
    "int(time.mktime(time_tuple))"
   ]
  },
  {
   "cell_type": "code",
   "execution_count": 20,
   "metadata": {},
   "outputs": [],
   "source": [
    "time_tuple = (2019, 6, 14, 0, 0, 0, 0, 0, 0)\n",
    "end_time = str(int(time.mktime(time_tuple)))"
   ]
  },
  {
   "cell_type": "code",
   "execution_count": 21,
   "metadata": {},
   "outputs": [
    {
     "data": {
      "text/plain": [
       "'1560481200'"
      ]
     },
     "execution_count": 21,
     "metadata": {},
     "output_type": "execute_result"
    }
   ],
   "source": [
    "end_time"
   ]
  },
  {
   "cell_type": "code",
   "execution_count": 22,
   "metadata": {},
   "outputs": [],
   "source": [
    "latitude=rj_lagoa_geo[0]\n",
    "longitude=rj_lagoa_geo[1]\n",
    "asctime= end_time\n",
    "units = \"si\"\n",
    "lang = \"en\""
   ]
  },
  {
   "cell_type": "code",
   "execution_count": null,
   "metadata": {},
   "outputs": [],
   "source": [
    "url = \"https://api.darksky.net/forecast/{}/{},{},{}?units={}&lang={}\".format(api_key, latitude, longitude, asctime, units, lang)\n",
    "print(url)\n",
    "r = requests.get(url)\n",
    "data = json.loads(r.text)"
   ]
  },
  {
   "cell_type": "markdown",
   "metadata": {},
   "source": [
    "# print metadata by day and hour"
   ]
  },
  {
   "cell_type": "code",
   "execution_count": 126,
   "metadata": {
    "scrolled": true
   },
   "outputs": [
    {
     "name": "stdout",
     "output_type": "stream",
     "text": [
      "{'data': [{'apparentTemperatureHigh': 6.79,\n",
      "           'apparentTemperatureHighTime': 1562004000,\n",
      "           'apparentTemperatureLow': 1.3,\n",
      "           'apparentTemperatureLowTime': 1562032800,\n",
      "           'apparentTemperatureMax': 6.79,\n",
      "           'apparentTemperatureMaxTime': 1562004000,\n",
      "           'apparentTemperatureMin': 1.3,\n",
      "           'apparentTemperatureMinTime': 1562032800,\n",
      "           'cloudCover': 0.21,\n",
      "           'dewPoint': 1.82,\n",
      "           'humidity': 0.66,\n",
      "           'icon': 'partly-cloudy-day',\n",
      "           'moonPhase': 0.97,\n",
      "           'ozone': 314.9,\n",
      "           'precipIntensity': 0.0015,\n",
      "           'precipIntensityMax': 0.0072,\n",
      "           'precipIntensityMaxTime': 1562004000,\n",
      "           'precipProbability': 0.07,\n",
      "           'precipType': 'rain',\n",
      "           'pressure': 1016.92,\n",
      "           'summary': 'Windy in the morning and overnight.',\n",
      "           'sunriseTime': 1561978460,\n",
      "           'sunsetTime': 1562013906,\n",
      "           'temperatureHigh': 9.85,\n",
      "           'temperatureHighTime': 1562004000,\n",
      "           'temperatureLow': 4.73,\n",
      "           'temperatureLowTime': 1562025600,\n",
      "           'temperatureMax': 9.85,\n",
      "           'temperatureMaxTime': 1562004000,\n",
      "           'temperatureMin': 4.73,\n",
      "           'temperatureMinTime': 1562025600,\n",
      "           'time': 1561950000,\n",
      "           'uvIndex': 2,\n",
      "           'uvIndexTime': 1561996800,\n",
      "           'visibility': 10.247,\n",
      "           'windBearing': 272,\n",
      "           'windGust': 15.68,\n",
      "           'windGustTime': 1562036400,\n",
      "           'windSpeed': 6.02}]}\n"
     ]
    }
   ],
   "source": [
    "pprint(data['daily'])"
   ]
  },
  {
   "cell_type": "code",
   "execution_count": 28,
   "metadata": {},
   "outputs": [
    {
     "data": {
      "text/plain": [
       "'1560481200'"
      ]
     },
     "execution_count": 28,
     "metadata": {},
     "output_type": "execute_result"
    }
   ],
   "source": [
    "str(int(time.mktime((2019, 6, 14, 0, 0, 0, 0, 0, 0))))"
   ]
  },
  {
   "cell_type": "code",
   "execution_count": 29,
   "metadata": {},
   "outputs": [
    {
     "data": {
      "text/plain": [
       "'1560546000'"
      ]
     },
     "execution_count": 29,
     "metadata": {},
     "output_type": "execute_result"
    }
   ],
   "source": [
    "str(int(time.mktime((2019, 6, 14, 18, 0, 0, 0, 0, 0))))"
   ]
  },
  {
   "cell_type": "code",
   "execution_count": 76,
   "metadata": {},
   "outputs": [],
   "source": [
    "def save_csv(city):\n",
    "    file_name = os.path.join(datapath,'{}-weather.csv'.format(city))\n",
    "    city_geo = eval(city+\"_geo\")\n",
    "    \n",
    "    f = csv.writer(open(file_name, \"w\"),lineterminator = '\\n')\n",
    "    f.writerow([\"time\", \"cloudCover\", \"humidity\", \"precipIntensity\", \"windSpeed\"])\n",
    "    \n",
    "    for i in range(days_range):\n",
    "        print(\"RETRIEVING FROM DAY: \",i)\n",
    "        if i % 28 == 0 or i == days_range-1: clear_output()\n",
    "        time_iter = int(asctime)+i*daily_seconds\n",
    "        if int(time_iter) > int(end_time): break\n",
    "        day_weather = get_weather(api_key, city_geo, time_iter, units, lang)\n",
    "        hours = day_weather['hourly']['data']\n",
    "        for key in hours:\n",
    "            if key[\"time\"] < int(asctime): continue\n",
    "            date_time = time.strftime('%Y-%m-%d %H:%M:%S', time.localtime(key[\"time\"]))\n",
    "            f.writerow(\n",
    "                [date_time,\n",
    "                key[\"cloudCover\"],\n",
    "                key[\"humidity\"],\n",
    "                key[\"precipIntensity\"],\n",
    "                key[\"windSpeed\"],\n",
    "                ])\n",
    "        #if i == 1: break"
   ]
  },
  {
   "cell_type": "code",
   "execution_count": null,
   "metadata": {},
   "outputs": [],
   "source": []
  }
 ],
 "metadata": {
  "kernelspec": {
   "display_name": "Python 3",
   "language": "python",
   "name": "python3"
  },
  "language_info": {
   "codemirror_mode": {
    "name": "ipython",
    "version": 3
   },
   "file_extension": ".py",
   "mimetype": "text/x-python",
   "name": "python",
   "nbconvert_exporter": "python",
   "pygments_lexer": "ipython3",
   "version": "3.7.1"
  }
 },
 "nbformat": 4,
 "nbformat_minor": 2
}
